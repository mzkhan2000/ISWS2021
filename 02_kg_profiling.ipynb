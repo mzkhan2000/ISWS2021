{
  "nbformat": 4,
  "nbformat_minor": 0,
  "metadata": {
    "kernelspec": {
      "display_name": "kgtk",
      "language": "python",
      "name": "kgtk"
    },
    "language_info": {
      "codemirror_mode": {
        "name": "ipython",
        "version": 3
      },
      "file_extension": ".py",
      "mimetype": "text/x-python",
      "name": "python",
      "nbconvert_exporter": "python",
      "pygments_lexer": "ipython3",
      "version": "3.8.12"
    },
    "colab": {
      "name": "02-kg-profiling.ipynb",
      "provenance": [],
      "collapsed_sections": [
        "uYjC-vpiT4Z2",
        "j8rdRby0T4Z5",
        "ft2DRHi-T4Z8",
        "Q9-S6i56T4Z9"
      ],
      "include_colab_link": true
    }
  },
  "cells": [
    {
      "cell_type": "markdown",
      "metadata": {
        "id": "view-in-github",
        "colab_type": "text"
      },
      "source": [
        "<a href=\"https://colab.research.google.com/github/mzkhan2000/ISWS2021/blob/main/02_kg_profiling.ipynb\" target=\"_parent\"><img src=\"https://colab.research.google.com/assets/colab-badge.svg\" alt=\"Open In Colab\"/></a>"
      ]
    },
    {
      "cell_type": "code",
      "metadata": {
        "id": "X6jIAXi0UCNj"
      },
      "source": [
        "!pip install kgtk==1.0.1"
      ],
      "execution_count": null,
      "outputs": []
    },
    {
      "cell_type": "markdown",
      "metadata": {
        "id": "1gvNzJZUT4Zf"
      },
      "source": [
        "# Knowledge Graph Profiling\n",
        "\n",
        "The goal fo profiling is to produce a summary of the classes, properties and instances present in a KG. Profiling is challenging because it is comptationally expensive as the queries touch large parts of the KG. In this part of the tutorial, you will learn how to use KGTK to profile a KG, and how KGTK addresses the computatinal challenges of computing profiles. Along the way, you will learn advanced uses of the KGTK query command.\n",
        "\n",
        "This part of the tutorial is divided into multiple subsetions:\n",
        "- Counting the number of instances, classes and properties\n",
        "- Counting the number of instances of each class, the the most basic form of profiling\n",
        "- Extending instance counting to include the instance of all subclasses of a class\n",
        "- Generalizing the Wikidata `instance of (P31)` to include `occupation (P106)` and `position held (P39)` so that our profiles include statistics about classes such as `director (P57)`, which in Wikidata don't have instances\n",
        "- Counting the number of times each property is used in the instances of each class and all its subclasses; you will learn how to divide a computationally challenging task into simpler queries that you can chain together \n",
        "- Customizing the profiles to include items of interest\n",
        "\n",
        "At the end, you will load the profile data in the browsesr so that you can get more insights into the knowledge present in the tutorial KG."
      ]
    },
    {
      "cell_type": "markdown",
      "metadata": {
        "id": "8rRDhwa0T4Zj"
      },
      "source": [
        "## Preamble: set up the environment and files used in the tutorial"
      ]
    },
    {
      "cell_type": "code",
      "metadata": {
        "id": "nnjl1makT4Zk"
      },
      "source": [
        "import os\n",
        "import numpy as np\n",
        "import pandas as pd\n",
        "\n",
        "from kgtk.configure_kgtk_notebooks import ConfigureKGTK\n",
        "from kgtk.functions import kgtk, kypher"
      ],
      "execution_count": null,
      "outputs": []
    },
    {
      "cell_type": "code",
      "metadata": {
        "tags": [
          "parameters"
        ],
        "id": "I7jmIt4ET4Zm"
      },
      "source": [
        "# Parameters\n",
        "\n",
        "# Folder on local machine where to create the output and temporary folders\n",
        "input_path = None\n",
        "output_path = \"/tmp/projects\"\n",
        "project_name = \"tutorial-profiling\""
      ],
      "execution_count": null,
      "outputs": []
    },
    {
      "cell_type": "markdown",
      "metadata": {
        "id": "ADWMRYfFT4Zm"
      },
      "source": [
        "Our Wikidata distribution partitions the knowledge in Wikidata into smaller files that make it possible for you to pick and choose which files you want to use. Our tutorial KG is a subset of Wikidata, and is partitioned in the same way as the full Wikidata. The following is a partial list of all the files:"
      ]
    },
    {
      "cell_type": "code",
      "metadata": {
        "id": "qkcyohV5T4Zn"
      },
      "source": [
        "files = [\n",
        "    \"all\",\n",
        "    \"label\",\n",
        "    \"alias\",\n",
        "    \"description\",\n",
        "    \"external_id\",\n",
        "    \"monolingualtext\",\n",
        "    \"quantity\",\n",
        "    \"string\",\n",
        "    \"time\",\n",
        "    \"item\",\n",
        "    \"wikibase_property\",\n",
        "    \"qualifiers\",\n",
        "    \"datatypes\",\n",
        "    \"p279\",\n",
        "    \"p279star\",\n",
        "    \"p31\",\n",
        "    \"in_degree\",\n",
        "    \"out_degree\",\n",
        "    \"pagerank_directed\",\n",
        "    \"pagerank_undirected\"\n",
        "]\n",
        "ck = ConfigureKGTK(files)\n",
        "ck.configure_kgtk(input_graph_path=input_path,\n",
        "                  output_path=output_path,\n",
        "                  project_name=project_name)"
      ],
      "execution_count": null,
      "outputs": []
    },
    {
      "cell_type": "markdown",
      "metadata": {
        "id": "fJ69-J_vT4Zp"
      },
      "source": [
        "The KGTK setup command defines environment variables for all the files so that you can reuse the Jupyter notebook when you install it on your local machine."
      ]
    },
    {
      "cell_type": "code",
      "metadata": {
        "id": "C1v-HYtzT4Zp",
        "colab": {
          "base_uri": "https://localhost:8080/"
        },
        "outputId": "a616be04-7544-4e40-e83c-750077a83eb2"
      },
      "source": [
        "ck.print_env_variables()"
      ],
      "execution_count": null,
      "outputs": [
        {
          "output_type": "stream",
          "name": "stdout",
          "text": [
            "kypher: kgtk query --graph-cache /tmp/projects/tutorial-profiling/temp.tutorial-profiling/wikidata.sqlite3.db\n",
            "kgtk: kgtk\n",
            "GRAPH: /root/isi-kgtk-tutorial/input\n",
            "USE_CASES_DIR: //use-cases\n",
            "KGTK_LABEL_FILE: /root/isi-kgtk-tutorial/input/labels.en.tsv.gz\n",
            "OUT: /tmp/projects/tutorial-profiling\n",
            "STORE: /tmp/projects/tutorial-profiling/temp.tutorial-profiling/wikidata.sqlite3.db\n",
            "KGTK_GRAPH_CACHE: /tmp/projects/tutorial-profiling/temp.tutorial-profiling/wikidata.sqlite3.db\n",
            "EXAMPLES_DIR: //examples\n",
            "KGTK_OPTION_DEBUG: false\n",
            "TEMP: /tmp/projects/tutorial-profiling/temp.tutorial-profiling\n",
            "all: /root/isi-kgtk-tutorial/input/all.tsv.gz\n",
            "label: /root/isi-kgtk-tutorial/input/labels.en.tsv.gz\n",
            "alias: /root/isi-kgtk-tutorial/input/aliases.en.tsv.gz\n",
            "description: /root/isi-kgtk-tutorial/input/descriptions.en.tsv.gz\n",
            "external_id: /root/isi-kgtk-tutorial/input/claims.external-id.tsv.gz\n",
            "monolingualtext: /root/isi-kgtk-tutorial/input/claims.monolingualtext.tsv.gz\n",
            "quantity: /root/isi-kgtk-tutorial/input/claims.quantity.tsv.gz\n",
            "string: /root/isi-kgtk-tutorial/input/claims.string.tsv.gz\n",
            "time: /root/isi-kgtk-tutorial/input/claims.time.tsv.gz\n",
            "item: /root/isi-kgtk-tutorial/input/claims.wikibase-item.tsv.gz\n",
            "wikibase_property: /root/isi-kgtk-tutorial/input/claims.wikibase-property.tsv.gz\n",
            "qualifiers: /root/isi-kgtk-tutorial/input/qualifiers.tsv.gz\n",
            "datatypes: /root/isi-kgtk-tutorial/input/metadata.property.datatypes.tsv.gz\n",
            "p279: /root/isi-kgtk-tutorial/input/derived.P279.tsv.gz\n",
            "p279star: /root/isi-kgtk-tutorial/input/derived.P279star.tsv.gz\n",
            "p31: /root/isi-kgtk-tutorial/input/derived.P31.tsv.gz\n",
            "in_degree: /root/isi-kgtk-tutorial/input/metadata.in_degree.tsv.gz\n",
            "out_degree: /root/isi-kgtk-tutorial/input/metadata.out_degree.tsv.gz\n",
            "pagerank_directed: /root/isi-kgtk-tutorial/input/metadata.pagerank.directed.tsv.gz\n",
            "pagerank_undirected: /root/isi-kgtk-tutorial/input/metadata.pagerank.undirected.tsv.gz\n"
          ]
        }
      ]
    },
    {
      "cell_type": "markdown",
      "metadata": {
        "id": "qaZWj0QAT4Zr"
      },
      "source": [
        "The KGTK query command (https://kgtk.readthedocs.io/en/latest/transform/query/) uses a database to cache the file used in the queries. In this tutorial, we will populate the cache now to include the files we need so that later. KGTK will populate the cache on demand, the first time you use a file. I like to do it at configuration time to keep all the aliases in one place so that I can quickly come here and see the aliases of all the files."
      ]
    },
    {
      "cell_type": "code",
      "metadata": {
        "id": "9RdF1J7aT4Zs",
        "colab": {
          "base_uri": "https://localhost:8080/"
        },
        "outputId": "fa900b31-cb34-4136-9aae-a72d9009e5f3"
      },
      "source": [
        "%%time\n",
        "ck.load_files_into_cache()"
      ],
      "execution_count": null,
      "outputs": [
        {
          "output_type": "stream",
          "name": "stdout",
          "text": [
            "kgtk query --graph-cache /tmp/projects/tutorial-profiling/temp.tutorial-profiling/wikidata.sqlite3.db -i \"/root/isi-kgtk-tutorial/input/all.tsv.gz\" --as all  -i \"/root/isi-kgtk-tutorial/input/labels.en.tsv.gz\" --as label  -i \"/root/isi-kgtk-tutorial/input/aliases.en.tsv.gz\" --as alias  -i \"/root/isi-kgtk-tutorial/input/descriptions.en.tsv.gz\" --as description  -i \"/root/isi-kgtk-tutorial/input/claims.external-id.tsv.gz\" --as external_id  -i \"/root/isi-kgtk-tutorial/input/claims.monolingualtext.tsv.gz\" --as monolingualtext  -i \"/root/isi-kgtk-tutorial/input/claims.quantity.tsv.gz\" --as quantity  -i \"/root/isi-kgtk-tutorial/input/claims.string.tsv.gz\" --as string  -i \"/root/isi-kgtk-tutorial/input/claims.time.tsv.gz\" --as time  -i \"/root/isi-kgtk-tutorial/input/claims.wikibase-item.tsv.gz\" --as item  -i \"/root/isi-kgtk-tutorial/input/claims.wikibase-property.tsv.gz\" --as wikibase_property  -i \"/root/isi-kgtk-tutorial/input/qualifiers.tsv.gz\" --as qualifiers  -i \"/root/isi-kgtk-tutorial/input/metadata.property.datatypes.tsv.gz\" --as datatypes  -i \"/root/isi-kgtk-tutorial/input/derived.P279.tsv.gz\" --as p279  -i \"/root/isi-kgtk-tutorial/input/derived.P279star.tsv.gz\" --as p279star  -i \"/root/isi-kgtk-tutorial/input/derived.P31.tsv.gz\" --as p31  -i \"/root/isi-kgtk-tutorial/input/metadata.in_degree.tsv.gz\" --as in_degree  -i \"/root/isi-kgtk-tutorial/input/metadata.out_degree.tsv.gz\" --as out_degree  -i \"/root/isi-kgtk-tutorial/input/metadata.pagerank.directed.tsv.gz\" --as pagerank_directed  -i \"/root/isi-kgtk-tutorial/input/metadata.pagerank.undirected.tsv.gz\" --as pagerank_undirected  --limit 3\n",
            "node1\tlabel\tnode2\tid\tnode2;wikidatatype\n",
            "P10\talias\t'gif'@en\tP10-alias-en-282226-0\t\n",
            "P10\talias\t'animation'@en\tP10-alias-en-2f86d8-0\t\n",
            "P10\talias\t'media'@en\tP10-alias-en-c1427e-0\t\n",
            "CPU times: user 162 ms, sys: 23.8 ms, total: 186 ms\n",
            "Wall time: 30.6 s\n"
          ]
        }
      ]
    },
    {
      "cell_type": "markdown",
      "metadata": {
        "tags": [],
        "id": "GmP3fUVmT4Zs"
      },
      "source": [
        "## Compute global KG statistics\n",
        "In this part of the tutorial we will compute global statistics about the number of instances in the KG, the number of properties used to describe all the instances and classes, and the number of classes.\n",
        "\n"
      ]
    },
    {
      "cell_type": "markdown",
      "metadata": {
        "id": "Ys2FtI7XT4Zs"
      },
      "source": [
        "Total number of edges in our graph:"
      ]
    },
    {
      "cell_type": "code",
      "metadata": {
        "id": "pEfzSlNWT4Zt",
        "colab": {
          "base_uri": "https://localhost:8080/"
        },
        "outputId": "084b9b93-508e-47bd-f401-f5de2a326d2f"
      },
      "source": [
        "%%bash\n",
        "zcat < $all | wc -l"
      ],
      "execution_count": null,
      "outputs": [
        {
          "output_type": "stream",
          "name": "stdout",
          "text": [
            "2614950\n"
          ]
        }
      ]
    },
    {
      "cell_type": "markdown",
      "metadata": {
        "id": "Id_O-m7DT4Zt"
      },
      "source": [
        "Counting the total number of nodes is a bit harder as nodes can appear in the `node1` poistion or the `node2` position. \n",
        "In the queries below we count literals as nodes, as in KGTK they are nodes:\n",
        "- list all the nodes that appear in the `node1` position.\n",
        "- list all the nodes that appear in the `node1` position.\n",
        "- concatenate and deduplicate the two files"
      ]
    },
    {
      "cell_type": "code",
      "metadata": {
        "id": "xgb5_o7LT4Zt",
        "colab": {
          "base_uri": "https://localhost:8080/",
          "height": 424
        },
        "outputId": "58b554f9-98e3-462f-a24d-f12b09f488ea"
      },
      "source": [
        "kgtk(\"\"\"\n",
        "    query -i all\n",
        "        --match '(n1)-[id]->(n2)'\n",
        "        --return 'distinct n1 as id'\n",
        "        -o $TEMP/node1.tsv\n",
        "\"\"\")\n",
        "\n",
        "kgtk(\"\"\"\n",
        "    query -i all\n",
        "        --match '(n1)-[id]->(n2)'\n",
        "        --return 'distinct n2 as id'\n",
        "        -o $TEMP/node2.tsv\n",
        "\"\"\")\n",
        "\n",
        "kgtk(\"\"\"\n",
        "    cat -i $TEMP/node1.tsv -i $TEMP/node2.tsv\n",
        "    / compact\n",
        "\"\"\")"
      ],
      "execution_count": null,
      "outputs": [
        {
          "output_type": "execute_result",
          "data": {
            "text/html": [
              "<div>\n",
              "<style scoped>\n",
              "    .dataframe tbody tr th:only-of-type {\n",
              "        vertical-align: middle;\n",
              "    }\n",
              "\n",
              "    .dataframe tbody tr th {\n",
              "        vertical-align: top;\n",
              "    }\n",
              "\n",
              "    .dataframe thead th {\n",
              "        text-align: right;\n",
              "    }\n",
              "</style>\n",
              "<table border=\"1\" class=\"dataframe\">\n",
              "  <thead>\n",
              "    <tr style=\"text-align: right;\">\n",
              "      <th></th>\n",
              "      <th>id</th>\n",
              "    </tr>\n",
              "  </thead>\n",
              "  <tbody>\n",
              "    <tr>\n",
              "      <th>0</th>\n",
              "      <td>$a United States. $b Department of the Interior</td>\n",
              "    </tr>\n",
              "    <tr>\n",
              "      <th>1</th>\n",
              "      <td>((0?[1-9]|[1-2][0-9]|3[0-6])[LRC]?)(/(0?[1-9]|...</td>\n",
              "    </tr>\n",
              "    <tr>\n",
              "      <th>2</th>\n",
              "      <td>(([0-9]|[1-9][0-9]|1[0-9]{2}|2[0-4][0-9]?|25[0...</td>\n",
              "    </tr>\n",
              "    <tr>\n",
              "      <th>3</th>\n",
              "      <td>(+20) 2</td>\n",
              "    </tr>\n",
              "    <tr>\n",
              "      <th>4</th>\n",
              "      <td>(+32) 2</td>\n",
              "    </tr>\n",
              "    <tr>\n",
              "      <th>...</th>\n",
              "      <td>...</td>\n",
              "    </tr>\n",
              "    <tr>\n",
              "      <th>1387690</th>\n",
              "      <td>url</td>\n",
              "    </tr>\n",
              "    <tr>\n",
              "      <th>1387691</th>\n",
              "      <td>wikibase-form</td>\n",
              "    </tr>\n",
              "    <tr>\n",
              "      <th>1387692</th>\n",
              "      <td>wikibase-item</td>\n",
              "    </tr>\n",
              "    <tr>\n",
              "      <th>1387693</th>\n",
              "      <td>wikibase-property</td>\n",
              "    </tr>\n",
              "    <tr>\n",
              "      <th>1387694</th>\n",
              "      <td>wikibase-sense</td>\n",
              "    </tr>\n",
              "  </tbody>\n",
              "</table>\n",
              "<p>1387695 rows × 1 columns</p>\n",
              "</div>"
            ],
            "text/plain": [
              "                                                        id\n",
              "0          $a United States. $b Department of the Interior\n",
              "1        ((0?[1-9]|[1-2][0-9]|3[0-6])[LRC]?)(/(0?[1-9]|...\n",
              "2        (([0-9]|[1-9][0-9]|1[0-9]{2}|2[0-4][0-9]?|25[0...\n",
              "3                                                  (+20) 2\n",
              "4                                                  (+32) 2\n",
              "...                                                    ...\n",
              "1387690                                                url\n",
              "1387691                                      wikibase-form\n",
              "1387692                                      wikibase-item\n",
              "1387693                                  wikibase-property\n",
              "1387694                                     wikibase-sense\n",
              "\n",
              "[1387695 rows x 1 columns]"
            ]
          },
          "metadata": {},
          "execution_count": 8
        }
      ]
    },
    {
      "cell_type": "markdown",
      "metadata": {
        "id": "RQ1TwvlOT4Zu"
      },
      "source": [
        "Counting the number of instances is easy as we can use the `instance of (P31)` property to identify the instances:"
      ]
    },
    {
      "cell_type": "code",
      "metadata": {
        "id": "Bi2w8Pj6T4Zu",
        "colab": {
          "base_uri": "https://localhost:8080/",
          "height": 115
        },
        "outputId": "c54fed8a-cd5a-481f-e19c-9d54c65d5deb"
      },
      "source": [
        "%%time\n",
        "kgtk(\"\"\"\n",
        "    query -i all\n",
        "        --match '(instance)-[:P31]->(class)'\n",
        "        --return 'count(distinct instance) as count_instances'\n",
        "\"\"\")"
      ],
      "execution_count": null,
      "outputs": [
        {
          "output_type": "stream",
          "name": "stdout",
          "text": [
            "CPU times: user 35 ms, sys: 19.2 ms, total: 54.2 ms\n",
            "Wall time: 4.17 s\n"
          ]
        },
        {
          "output_type": "execute_result",
          "data": {
            "text/html": [
              "<div>\n",
              "<style scoped>\n",
              "    .dataframe tbody tr th:only-of-type {\n",
              "        vertical-align: middle;\n",
              "    }\n",
              "\n",
              "    .dataframe tbody tr th {\n",
              "        vertical-align: top;\n",
              "    }\n",
              "\n",
              "    .dataframe thead th {\n",
              "        text-align: right;\n",
              "    }\n",
              "</style>\n",
              "<table border=\"1\" class=\"dataframe\">\n",
              "  <thead>\n",
              "    <tr style=\"text-align: right;\">\n",
              "      <th></th>\n",
              "      <th>count_instances</th>\n",
              "    </tr>\n",
              "  </thead>\n",
              "  <tbody>\n",
              "    <tr>\n",
              "      <th>0</th>\n",
              "      <td>58522</td>\n",
              "    </tr>\n",
              "  </tbody>\n",
              "</table>\n",
              "</div>"
            ],
            "text/plain": [
              "   count_instances\n",
              "0            58522"
            ]
          },
          "metadata": {},
          "execution_count": 9
        }
      ]
    },
    {
      "cell_type": "markdown",
      "metadata": {
        "id": "FqyaW3hiT4Zu"
      },
      "source": [
        "Counting the number of properties used is also easy: you do a query over all statements in the KG, and count the occurrence of each property:"
      ]
    },
    {
      "cell_type": "code",
      "metadata": {
        "id": "gycJWT-XT4Zv",
        "colab": {
          "base_uri": "https://localhost:8080/",
          "height": 115
        },
        "outputId": "1f26eb8e-1f78-436d-ad94-8b544304db1c"
      },
      "source": [
        "%%time\n",
        "kgtk(\"\"\"\n",
        "    query -i all\n",
        "        --match '(instance)-[l {label: property}]->(class)'\n",
        "        --return 'count(distinct property) as count_property'\n",
        "\"\"\")"
      ],
      "execution_count": null,
      "outputs": [
        {
          "output_type": "stream",
          "name": "stdout",
          "text": [
            "CPU times: user 17.9 ms, sys: 14 ms, total: 31.9 ms\n",
            "Wall time: 1.9 s\n"
          ]
        },
        {
          "output_type": "execute_result",
          "data": {
            "text/html": [
              "<div>\n",
              "<style scoped>\n",
              "    .dataframe tbody tr th:only-of-type {\n",
              "        vertical-align: middle;\n",
              "    }\n",
              "\n",
              "    .dataframe tbody tr th {\n",
              "        vertical-align: top;\n",
              "    }\n",
              "\n",
              "    .dataframe thead th {\n",
              "        text-align: right;\n",
              "    }\n",
              "</style>\n",
              "<table border=\"1\" class=\"dataframe\">\n",
              "  <thead>\n",
              "    <tr style=\"text-align: right;\">\n",
              "      <th></th>\n",
              "      <th>count_property</th>\n",
              "    </tr>\n",
              "  </thead>\n",
              "  <tbody>\n",
              "    <tr>\n",
              "      <th>0</th>\n",
              "      <td>3831</td>\n",
              "    </tr>\n",
              "  </tbody>\n",
              "</table>\n",
              "</div>"
            ],
            "text/plain": [
              "   count_property\n",
              "0            3831"
            ]
          },
          "metadata": {},
          "execution_count": 10
        }
      ]
    },
    {
      "cell_type": "markdown",
      "metadata": {
        "id": "-W1QN_iST4Zv"
      },
      "source": [
        "Counting the number of classes is more challenging because the notion of class in Wikidata is implicit. Here, we define **class** to be any item that is involved in a `subclass of (P279)`. Some classes don't have instances, so we cannot use `instance of (P31)` to count classes. The KGTK `p279star` graph is very handy for this task, and for any other task where you want to quickly traverse the `subclass of (P279)`. KGTK defines the `subclass of (transitive) (P279star)` property to record all the superclesses of each class, includng itself.\n",
        "\n",
        "You can count the number of classes by counting the number of distinct classes that appear as values of `P279star` :"
      ]
    },
    {
      "cell_type": "code",
      "metadata": {
        "id": "166MIcBrT4Zv",
        "colab": {
          "base_uri": "https://localhost:8080/",
          "height": 115
        },
        "outputId": "d22575e8-bb5e-4c94-a6a5-9a4c2103bb4c"
      },
      "source": [
        "%%time\n",
        "kgtk(\"\"\"\n",
        "    query -i p279star\n",
        "        --match '(class)-[:P279star]->(super_class)'\n",
        "        --return 'count(distinct super_class) as count_classes'\n",
        "\"\"\")"
      ],
      "execution_count": null,
      "outputs": [
        {
          "output_type": "stream",
          "name": "stdout",
          "text": [
            "CPU times: user 18.9 ms, sys: 12.7 ms, total: 31.6 ms\n",
            "Wall time: 1.33 s\n"
          ]
        },
        {
          "output_type": "execute_result",
          "data": {
            "text/html": [
              "<div>\n",
              "<style scoped>\n",
              "    .dataframe tbody tr th:only-of-type {\n",
              "        vertical-align: middle;\n",
              "    }\n",
              "\n",
              "    .dataframe tbody tr th {\n",
              "        vertical-align: top;\n",
              "    }\n",
              "\n",
              "    .dataframe thead th {\n",
              "        text-align: right;\n",
              "    }\n",
              "</style>\n",
              "<table border=\"1\" class=\"dataframe\">\n",
              "  <thead>\n",
              "    <tr style=\"text-align: right;\">\n",
              "      <th></th>\n",
              "      <th>count_classes</th>\n",
              "    </tr>\n",
              "  </thead>\n",
              "  <tbody>\n",
              "    <tr>\n",
              "      <th>0</th>\n",
              "      <td>14490</td>\n",
              "    </tr>\n",
              "  </tbody>\n",
              "</table>\n",
              "</div>"
            ],
            "text/plain": [
              "   count_classes\n",
              "0          14490"
            ]
          },
          "metadata": {},
          "execution_count": 11
        }
      ]
    },
    {
      "cell_type": "markdown",
      "metadata": {
        "id": "A4f5RwG5T4Zw"
      },
      "source": [
        "Count the number of qualifiers. All the qualifiers are in a file, so we can count them by getting the number of lines in the file:"
      ]
    },
    {
      "cell_type": "code",
      "metadata": {
        "id": "q_Gu3YYlT4Zw",
        "colab": {
          "base_uri": "https://localhost:8080/"
        },
        "outputId": "2fc80c7d-5369-49cb-c3b8-36acc8c214f5"
      },
      "source": [
        "%%bash\n",
        "zcat < $qualifiers | wc -l"
      ],
      "execution_count": null,
      "outputs": [
        {
          "output_type": "stream",
          "name": "stdout",
          "text": [
            "311872\n"
          ]
        }
      ]
    },
    {
      "cell_type": "markdown",
      "metadata": {
        "id": "sIOivQNlT4Zw"
      },
      "source": [
        "You can also count the number of qualifier edges using a query, and it is instructive to do it as tis example shows how to access the qualifiers on an edge:\n",
        "- The first match clasuse has `[id]`, which binds the variable `id` to the identifier of the edge.\n",
        "- The second match clause uses `(id)` in the `node1` position, and puts the identifier of the qualifier edge in the `qualifier_id` variable.\n",
        "- The retrun statement returns the count of `qualifier_id`, which is the number of qualifier edges."
      ]
    },
    {
      "cell_type": "code",
      "metadata": {
        "id": "_7Rw-Kk3T4Zx",
        "colab": {
          "base_uri": "https://localhost:8080/",
          "height": 81
        },
        "outputId": "d4187970-97ec-4a5b-e1ca-839a80c113e1"
      },
      "source": [
        "kgtk(\"\"\"\n",
        "    query -i all\n",
        "        --match '\n",
        "            (n1)-[id]->(n2),\n",
        "            (id)-[qualifier_id]->(qualifier_value)'\n",
        "        --return 'count(distinct qualifier_id)'\n",
        "\"\"\")"
      ],
      "execution_count": null,
      "outputs": [
        {
          "output_type": "execute_result",
          "data": {
            "text/html": [
              "<div>\n",
              "<style scoped>\n",
              "    .dataframe tbody tr th:only-of-type {\n",
              "        vertical-align: middle;\n",
              "    }\n",
              "\n",
              "    .dataframe tbody tr th {\n",
              "        vertical-align: top;\n",
              "    }\n",
              "\n",
              "    .dataframe thead th {\n",
              "        text-align: right;\n",
              "    }\n",
              "</style>\n",
              "<table border=\"1\" class=\"dataframe\">\n",
              "  <thead>\n",
              "    <tr style=\"text-align: right;\">\n",
              "      <th></th>\n",
              "      <th>count(DISTINCT graph_1_c2.\"id\")</th>\n",
              "    </tr>\n",
              "  </thead>\n",
              "  <tbody>\n",
              "    <tr>\n",
              "      <th>0</th>\n",
              "      <td>443899</td>\n",
              "    </tr>\n",
              "  </tbody>\n",
              "</table>\n",
              "</div>"
            ],
            "text/plain": [
              "   count(DISTINCT graph_1_c2.\"id\")\n",
              "0                           443899"
            ]
          },
          "metadata": {},
          "execution_count": 13
        }
      ]
    },
    {
      "cell_type": "markdown",
      "metadata": {
        "id": "6vOCgm68T4Zx"
      },
      "source": [
        "We can enhance the query to show us the distribution of properties used as qualifiers by introducing a variable `qualifier_property` to capture the property:"
      ]
    },
    {
      "cell_type": "code",
      "metadata": {
        "id": "M9RIqX5JT4Zx",
        "colab": {
          "base_uri": "https://localhost:8080/",
          "height": 458
        },
        "outputId": "67b9cbdf-1b32-4cc7-ee16-ede6f290ae57"
      },
      "source": [
        "%%time\n",
        "kgtk(\"\"\"\n",
        "    query -i all\n",
        "        --match '\n",
        "            (n1)-[id]->(n2),\n",
        "            (id)-[qualifier_id {label: qualifier_property}]->(qualifier_value)'\n",
        "        --return 'qualifier_property as node1, \"count\" as label, count(distinct qualifier_id) as node2'\n",
        "        --order-by 'cast(node2, int) desc'\n",
        "    / add-labels\n",
        "\"\"\")"
      ],
      "execution_count": null,
      "outputs": [
        {
          "output_type": "stream",
          "name": "stdout",
          "text": [
            "CPU times: user 101 ms, sys: 25.1 ms, total: 126 ms\n",
            "Wall time: 8.79 s\n"
          ]
        },
        {
          "output_type": "execute_result",
          "data": {
            "text/html": [
              "<div>\n",
              "<style scoped>\n",
              "    .dataframe tbody tr th:only-of-type {\n",
              "        vertical-align: middle;\n",
              "    }\n",
              "\n",
              "    .dataframe tbody tr th {\n",
              "        vertical-align: top;\n",
              "    }\n",
              "\n",
              "    .dataframe thead th {\n",
              "        text-align: right;\n",
              "    }\n",
              "</style>\n",
              "<table border=\"1\" class=\"dataframe\">\n",
              "  <thead>\n",
              "    <tr style=\"text-align: right;\">\n",
              "      <th></th>\n",
              "      <th>node1</th>\n",
              "      <th>label</th>\n",
              "      <th>node2</th>\n",
              "      <th>node1;label</th>\n",
              "    </tr>\n",
              "  </thead>\n",
              "  <tbody>\n",
              "    <tr>\n",
              "      <th>0</th>\n",
              "      <td>P1545</td>\n",
              "      <td>count</td>\n",
              "      <td>133607</td>\n",
              "      <td>'series ordinal'@en</td>\n",
              "    </tr>\n",
              "    <tr>\n",
              "      <th>1</th>\n",
              "      <td>P585</td>\n",
              "      <td>count</td>\n",
              "      <td>96772</td>\n",
              "      <td>'point in time'@en</td>\n",
              "    </tr>\n",
              "    <tr>\n",
              "      <th>2</th>\n",
              "      <td>P580</td>\n",
              "      <td>count</td>\n",
              "      <td>33175</td>\n",
              "      <td>'start time'@en</td>\n",
              "    </tr>\n",
              "    <tr>\n",
              "      <th>3</th>\n",
              "      <td>P459</td>\n",
              "      <td>count</td>\n",
              "      <td>32944</td>\n",
              "      <td>'determination method'@en</td>\n",
              "    </tr>\n",
              "    <tr>\n",
              "      <th>4</th>\n",
              "      <td>P805</td>\n",
              "      <td>count</td>\n",
              "      <td>19958</td>\n",
              "      <td>'statement is subject of'@en</td>\n",
              "    </tr>\n",
              "    <tr>\n",
              "      <th>...</th>\n",
              "      <td>...</td>\n",
              "      <td>...</td>\n",
              "      <td>...</td>\n",
              "      <td>...</td>\n",
              "    </tr>\n",
              "    <tr>\n",
              "      <th>704</th>\n",
              "      <td>P945</td>\n",
              "      <td>count</td>\n",
              "      <td>1</td>\n",
              "      <td>'allegiance'@en</td>\n",
              "    </tr>\n",
              "    <tr>\n",
              "      <th>705</th>\n",
              "      <td>P952</td>\n",
              "      <td>count</td>\n",
              "      <td>1</td>\n",
              "      <td>'ISCO-88 occupation code'@en</td>\n",
              "    </tr>\n",
              "    <tr>\n",
              "      <th>706</th>\n",
              "      <td>P97</td>\n",
              "      <td>count</td>\n",
              "      <td>1</td>\n",
              "      <td>'noble title'@en</td>\n",
              "    </tr>\n",
              "    <tr>\n",
              "      <th>707</th>\n",
              "      <td>P974</td>\n",
              "      <td>count</td>\n",
              "      <td>1</td>\n",
              "      <td>'tributary'@en</td>\n",
              "    </tr>\n",
              "    <tr>\n",
              "      <th>708</th>\n",
              "      <td>P991</td>\n",
              "      <td>count</td>\n",
              "      <td>1</td>\n",
              "      <td>'successful candidate'@en</td>\n",
              "    </tr>\n",
              "  </tbody>\n",
              "</table>\n",
              "<p>709 rows × 4 columns</p>\n",
              "</div>"
            ],
            "text/plain": [
              "     node1  label   node2                   node1;label\n",
              "0    P1545  count  133607           'series ordinal'@en\n",
              "1     P585  count   96772            'point in time'@en\n",
              "2     P580  count   33175               'start time'@en\n",
              "3     P459  count   32944     'determination method'@en\n",
              "4     P805  count   19958  'statement is subject of'@en\n",
              "..     ...    ...     ...                           ...\n",
              "704   P945  count       1               'allegiance'@en\n",
              "705   P952  count       1  'ISCO-88 occupation code'@en\n",
              "706    P97  count       1              'noble title'@en\n",
              "707   P974  count       1                'tributary'@en\n",
              "708   P991  count       1     'successful candidate'@en\n",
              "\n",
              "[709 rows x 4 columns]"
            ]
          },
          "metadata": {},
          "execution_count": 14
        }
      ]
    },
    {
      "cell_type": "markdown",
      "metadata": {
        "tags": [],
        "id": "MDgLr-T6T4Zx"
      },
      "source": [
        "## Get instance counts for each class\n",
        "\n",
        "In this part you will do the simplest profiling query where you count the number of direct instancess of each class.\n",
        "We can compute the instance counts by retrieving all statements that use `instance of (P31)` and counting the instances for each class.\n",
        "We order the result by the number of instances to see the classes that have the most instances.\n",
        "You can see that our tutorial KG contains a large number of people, and that there is a long tail of classes with very few instances; this is common in Wikidata, which defines over 1 million classes."
      ]
    },
    {
      "cell_type": "code",
      "metadata": {
        "id": "26ZD8wEnT4Zy",
        "colab": {
          "base_uri": "https://localhost:8080/",
          "height": 458
        },
        "outputId": "4d3765cd-6198-48b9-8054-4fc268e19aae"
      },
      "source": [
        "%%time\n",
        "kgtk(\"\"\"\n",
        "    query -i all\n",
        "        --match '(instance)-[:P31]->(class)'\n",
        "        --return 'class as class, count(distinct instance) as count'\n",
        "        --order-by 'cast(count, int) desc' \n",
        "    / add-labels\n",
        "\"\"\")"
      ],
      "execution_count": null,
      "outputs": [
        {
          "output_type": "stream",
          "name": "stdout",
          "text": [
            "CPU times: user 126 ms, sys: 38.1 ms, total: 164 ms\n",
            "Wall time: 3.39 s\n"
          ]
        },
        {
          "output_type": "execute_result",
          "data": {
            "text/html": [
              "<div>\n",
              "<style scoped>\n",
              "    .dataframe tbody tr th:only-of-type {\n",
              "        vertical-align: middle;\n",
              "    }\n",
              "\n",
              "    .dataframe tbody tr th {\n",
              "        vertical-align: top;\n",
              "    }\n",
              "\n",
              "    .dataframe thead th {\n",
              "        text-align: right;\n",
              "    }\n",
              "</style>\n",
              "<table border=\"1\" class=\"dataframe\">\n",
              "  <thead>\n",
              "    <tr style=\"text-align: right;\">\n",
              "      <th></th>\n",
              "      <th>class</th>\n",
              "      <th>count</th>\n",
              "      <th>class;label</th>\n",
              "    </tr>\n",
              "  </thead>\n",
              "  <tbody>\n",
              "    <tr>\n",
              "      <th>0</th>\n",
              "      <td>Q5</td>\n",
              "      <td>13870</td>\n",
              "      <td>'human'@en</td>\n",
              "    </tr>\n",
              "    <tr>\n",
              "      <th>1</th>\n",
              "      <td>Q15221623</td>\n",
              "      <td>3177</td>\n",
              "      <td>'bilateral relation'@en</td>\n",
              "    </tr>\n",
              "    <tr>\n",
              "      <th>2</th>\n",
              "      <td>Q11424</td>\n",
              "      <td>2136</td>\n",
              "      <td>'film'@en</td>\n",
              "    </tr>\n",
              "    <tr>\n",
              "      <th>3</th>\n",
              "      <td>Q4022</td>\n",
              "      <td>1550</td>\n",
              "      <td>'river'@en</td>\n",
              "    </tr>\n",
              "    <tr>\n",
              "      <th>4</th>\n",
              "      <td>Q3918</td>\n",
              "      <td>815</td>\n",
              "      <td>'university'@en</td>\n",
              "    </tr>\n",
              "    <tr>\n",
              "      <th>...</th>\n",
              "      <td>...</td>\n",
              "      <td>...</td>\n",
              "      <td>...</td>\n",
              "    </tr>\n",
              "    <tr>\n",
              "      <th>5754</th>\n",
              "      <td>Q99566538</td>\n",
              "      <td>1</td>\n",
              "      <td>'Wikidata property for an identifier that gene...</td>\n",
              "    </tr>\n",
              "    <tr>\n",
              "      <th>5755</th>\n",
              "      <td>Q99567847</td>\n",
              "      <td>1</td>\n",
              "      <td>'Wikidata property with a single value that ge...</td>\n",
              "    </tr>\n",
              "    <tr>\n",
              "      <th>5756</th>\n",
              "      <td>Q996839</td>\n",
              "      <td>1</td>\n",
              "      <td>'fraternal organization'@en</td>\n",
              "    </tr>\n",
              "    <tr>\n",
              "      <th>5757</th>\n",
              "      <td>Q99960791</td>\n",
              "      <td>1</td>\n",
              "      <td>'ministry of Andorra'@en</td>\n",
              "    </tr>\n",
              "    <tr>\n",
              "      <th>5758</th>\n",
              "      <td>Q99972219</td>\n",
              "      <td>1</td>\n",
              "      <td>'anthropomorphic suid'@en</td>\n",
              "    </tr>\n",
              "  </tbody>\n",
              "</table>\n",
              "<p>5759 rows × 3 columns</p>\n",
              "</div>"
            ],
            "text/plain": [
              "          class  count                                        class;label\n",
              "0            Q5  13870                                         'human'@en\n",
              "1     Q15221623   3177                            'bilateral relation'@en\n",
              "2        Q11424   2136                                          'film'@en\n",
              "3         Q4022   1550                                         'river'@en\n",
              "4         Q3918    815                                    'university'@en\n",
              "...         ...    ...                                                ...\n",
              "5754  Q99566538      1  'Wikidata property for an identifier that gene...\n",
              "5755  Q99567847      1  'Wikidata property with a single value that ge...\n",
              "5756    Q996839      1                        'fraternal organization'@en\n",
              "5757  Q99960791      1                           'ministry of Andorra'@en\n",
              "5758  Q99972219      1                          'anthropomorphic suid'@en\n",
              "\n",
              "[5759 rows x 3 columns]"
            ]
          },
          "metadata": {},
          "execution_count": 15
        }
      ]
    },
    {
      "cell_type": "markdown",
      "metadata": {
        "id": "-4oYYycET4Zy"
      },
      "source": [
        "We want to add the profiling data back into the KG so that we can use it in queries and look at it in the browser.\n",
        "To do so, we create a KGTK graph by using `node1, label, node2` as column headers:"
      ]
    },
    {
      "cell_type": "code",
      "metadata": {
        "id": "blKf1AzqT4Zy",
        "colab": {
          "base_uri": "https://localhost:8080/",
          "height": 398
        },
        "outputId": "2d596500-330d-4d3d-9fd8-15587af765c4"
      },
      "source": [
        "%%time\n",
        "kgtk(\"\"\"\n",
        "    query -i all\n",
        "        --match '(instance)-[:P31]->(class)'\n",
        "        --return 'class as node1, \"P31_count\" as label, count(distinct instance) as node2'\n",
        "        --order-by 'cast(node2, int) desc'\n",
        "    --limit 10 \n",
        "\"\"\")"
      ],
      "execution_count": null,
      "outputs": [
        {
          "output_type": "stream",
          "name": "stdout",
          "text": [
            "CPU times: user 11.9 ms, sys: 10 ms, total: 21.9 ms\n",
            "Wall time: 913 ms\n"
          ]
        },
        {
          "output_type": "execute_result",
          "data": {
            "text/html": [
              "<div>\n",
              "<style scoped>\n",
              "    .dataframe tbody tr th:only-of-type {\n",
              "        vertical-align: middle;\n",
              "    }\n",
              "\n",
              "    .dataframe tbody tr th {\n",
              "        vertical-align: top;\n",
              "    }\n",
              "\n",
              "    .dataframe thead th {\n",
              "        text-align: right;\n",
              "    }\n",
              "</style>\n",
              "<table border=\"1\" class=\"dataframe\">\n",
              "  <thead>\n",
              "    <tr style=\"text-align: right;\">\n",
              "      <th></th>\n",
              "      <th>node1</th>\n",
              "      <th>label</th>\n",
              "      <th>node2</th>\n",
              "    </tr>\n",
              "  </thead>\n",
              "  <tbody>\n",
              "    <tr>\n",
              "      <th>0</th>\n",
              "      <td>Q5</td>\n",
              "      <td>P31_count</td>\n",
              "      <td>13870</td>\n",
              "    </tr>\n",
              "    <tr>\n",
              "      <th>1</th>\n",
              "      <td>Q15221623</td>\n",
              "      <td>P31_count</td>\n",
              "      <td>3177</td>\n",
              "    </tr>\n",
              "    <tr>\n",
              "      <th>2</th>\n",
              "      <td>Q11424</td>\n",
              "      <td>P31_count</td>\n",
              "      <td>2136</td>\n",
              "    </tr>\n",
              "    <tr>\n",
              "      <th>3</th>\n",
              "      <td>Q4022</td>\n",
              "      <td>P31_count</td>\n",
              "      <td>1550</td>\n",
              "    </tr>\n",
              "    <tr>\n",
              "      <th>4</th>\n",
              "      <td>Q3918</td>\n",
              "      <td>P31_count</td>\n",
              "      <td>815</td>\n",
              "    </tr>\n",
              "    <tr>\n",
              "      <th>5</th>\n",
              "      <td>Q4164871</td>\n",
              "      <td>P31_count</td>\n",
              "      <td>645</td>\n",
              "    </tr>\n",
              "    <tr>\n",
              "      <th>6</th>\n",
              "      <td>Q1549591</td>\n",
              "      <td>P31_count</td>\n",
              "      <td>627</td>\n",
              "    </tr>\n",
              "    <tr>\n",
              "      <th>7</th>\n",
              "      <td>Q3917681</td>\n",
              "      <td>P31_count</td>\n",
              "      <td>614</td>\n",
              "    </tr>\n",
              "    <tr>\n",
              "      <th>8</th>\n",
              "      <td>Q19595382</td>\n",
              "      <td>P31_count</td>\n",
              "      <td>595</td>\n",
              "    </tr>\n",
              "    <tr>\n",
              "      <th>9</th>\n",
              "      <td>Q11862829</td>\n",
              "      <td>P31_count</td>\n",
              "      <td>567</td>\n",
              "    </tr>\n",
              "  </tbody>\n",
              "</table>\n",
              "</div>"
            ],
            "text/plain": [
              "       node1      label  node2\n",
              "0         Q5  P31_count  13870\n",
              "1  Q15221623  P31_count   3177\n",
              "2     Q11424  P31_count   2136\n",
              "3      Q4022  P31_count   1550\n",
              "4      Q3918  P31_count    815\n",
              "5   Q4164871  P31_count    645\n",
              "6   Q1549591  P31_count    627\n",
              "7   Q3917681  P31_count    614\n",
              "8  Q19595382  P31_count    595\n",
              "9  Q11862829  P31_count    567"
            ]
          },
          "metadata": {},
          "execution_count": 16
        }
      ]
    },
    {
      "cell_type": "markdown",
      "metadata": {
        "id": "TUlqErkvT4Zy"
      },
      "source": [
        "It is good practice to add identifiers to the edges so that we can add qualifiers later if we desire. To add the identifiers, we chain the query output to the `add-id` command:"
      ]
    },
    {
      "cell_type": "code",
      "metadata": {
        "id": "Kcm9xZbRT4Zy",
        "colab": {
          "base_uri": "https://localhost:8080/",
          "height": 458
        },
        "outputId": "e84b1d1d-b2dd-447c-9192-8a1868db38a2"
      },
      "source": [
        "%%time\n",
        "kgtk(\"\"\"\n",
        "    query -i all\n",
        "        --match '(instance)-[:P31]->(class)'\n",
        "        --return 'class as node1, \"P31count\" as label, count(distinct instance) as node2'\n",
        "        --order-by 'cast(node2, int) desc' \n",
        "    / add-id --id-style wikidata\n",
        "\"\"\")"
      ],
      "execution_count": null,
      "outputs": [
        {
          "output_type": "stream",
          "name": "stdout",
          "text": [
            "CPU times: user 113 ms, sys: 46.2 ms, total: 159 ms\n",
            "Wall time: 2.12 s\n"
          ]
        },
        {
          "output_type": "execute_result",
          "data": {
            "text/html": [
              "<div>\n",
              "<style scoped>\n",
              "    .dataframe tbody tr th:only-of-type {\n",
              "        vertical-align: middle;\n",
              "    }\n",
              "\n",
              "    .dataframe tbody tr th {\n",
              "        vertical-align: top;\n",
              "    }\n",
              "\n",
              "    .dataframe thead th {\n",
              "        text-align: right;\n",
              "    }\n",
              "</style>\n",
              "<table border=\"1\" class=\"dataframe\">\n",
              "  <thead>\n",
              "    <tr style=\"text-align: right;\">\n",
              "      <th></th>\n",
              "      <th>node1</th>\n",
              "      <th>label</th>\n",
              "      <th>node2</th>\n",
              "      <th>id</th>\n",
              "    </tr>\n",
              "  </thead>\n",
              "  <tbody>\n",
              "    <tr>\n",
              "      <th>0</th>\n",
              "      <td>Q5</td>\n",
              "      <td>P31count</td>\n",
              "      <td>13870</td>\n",
              "      <td>Q5-P31count-9a9c3a</td>\n",
              "    </tr>\n",
              "    <tr>\n",
              "      <th>1</th>\n",
              "      <td>Q15221623</td>\n",
              "      <td>P31count</td>\n",
              "      <td>3177</td>\n",
              "      <td>Q15221623-P31count-61d8c4</td>\n",
              "    </tr>\n",
              "    <tr>\n",
              "      <th>2</th>\n",
              "      <td>Q11424</td>\n",
              "      <td>P31count</td>\n",
              "      <td>2136</td>\n",
              "      <td>Q11424-P31count-907bdc</td>\n",
              "    </tr>\n",
              "    <tr>\n",
              "      <th>3</th>\n",
              "      <td>Q4022</td>\n",
              "      <td>P31count</td>\n",
              "      <td>1550</td>\n",
              "      <td>Q4022-P31count-c27484</td>\n",
              "    </tr>\n",
              "    <tr>\n",
              "      <th>4</th>\n",
              "      <td>Q3918</td>\n",
              "      <td>P31count</td>\n",
              "      <td>815</td>\n",
              "      <td>Q3918-P31count-96da2f</td>\n",
              "    </tr>\n",
              "    <tr>\n",
              "      <th>...</th>\n",
              "      <td>...</td>\n",
              "      <td>...</td>\n",
              "      <td>...</td>\n",
              "      <td>...</td>\n",
              "    </tr>\n",
              "    <tr>\n",
              "      <th>5754</th>\n",
              "      <td>Q99566538</td>\n",
              "      <td>P31count</td>\n",
              "      <td>1</td>\n",
              "      <td>Q99566538-P31count-6b86b2</td>\n",
              "    </tr>\n",
              "    <tr>\n",
              "      <th>5755</th>\n",
              "      <td>Q99567847</td>\n",
              "      <td>P31count</td>\n",
              "      <td>1</td>\n",
              "      <td>Q99567847-P31count-6b86b2</td>\n",
              "    </tr>\n",
              "    <tr>\n",
              "      <th>5756</th>\n",
              "      <td>Q996839</td>\n",
              "      <td>P31count</td>\n",
              "      <td>1</td>\n",
              "      <td>Q996839-P31count-6b86b2</td>\n",
              "    </tr>\n",
              "    <tr>\n",
              "      <th>5757</th>\n",
              "      <td>Q99960791</td>\n",
              "      <td>P31count</td>\n",
              "      <td>1</td>\n",
              "      <td>Q99960791-P31count-6b86b2</td>\n",
              "    </tr>\n",
              "    <tr>\n",
              "      <th>5758</th>\n",
              "      <td>Q99972219</td>\n",
              "      <td>P31count</td>\n",
              "      <td>1</td>\n",
              "      <td>Q99972219-P31count-6b86b2</td>\n",
              "    </tr>\n",
              "  </tbody>\n",
              "</table>\n",
              "<p>5759 rows × 4 columns</p>\n",
              "</div>"
            ],
            "text/plain": [
              "          node1     label  node2                         id\n",
              "0            Q5  P31count  13870         Q5-P31count-9a9c3a\n",
              "1     Q15221623  P31count   3177  Q15221623-P31count-61d8c4\n",
              "2        Q11424  P31count   2136     Q11424-P31count-907bdc\n",
              "3         Q4022  P31count   1550      Q4022-P31count-c27484\n",
              "4         Q3918  P31count    815      Q3918-P31count-96da2f\n",
              "...         ...       ...    ...                        ...\n",
              "5754  Q99566538  P31count      1  Q99566538-P31count-6b86b2\n",
              "5755  Q99567847  P31count      1  Q99567847-P31count-6b86b2\n",
              "5756    Q996839  P31count      1    Q996839-P31count-6b86b2\n",
              "5757  Q99960791  P31count      1  Q99960791-P31count-6b86b2\n",
              "5758  Q99972219  P31count      1  Q99972219-P31count-6b86b2\n",
              "\n",
              "[5759 rows x 4 columns]"
            ]
          },
          "metadata": {},
          "execution_count": 17
        }
      ]
    },
    {
      "cell_type": "markdown",
      "metadata": {
        "id": "4iJLbEOIT4Zz"
      },
      "source": [
        "Now that we saw the steps to create the graph with the counts, we want to output the results to a file using the `-o` option:"
      ]
    },
    {
      "cell_type": "code",
      "metadata": {
        "id": "VMcG1TbZT4Zz",
        "colab": {
          "base_uri": "https://localhost:8080/"
        },
        "outputId": "dd8ac858-27e9-4dbf-fd89-30db3ea76618"
      },
      "source": [
        "%%time\n",
        "kgtk(\"\"\"\n",
        "    query -i all\n",
        "        --match '(instance)-[:P31]->(class)'\n",
        "        --return 'class as node1, \"P31count\" as label, count(distinct instance) as node2'\n",
        "        --order-by 'cast(node2, int) desc'\n",
        "    / add-id --id-style wikidata\n",
        "    -o $OUT/metadata.p31.count.tsv\n",
        "\"\"\")"
      ],
      "execution_count": null,
      "outputs": [
        {
          "output_type": "stream",
          "name": "stdout",
          "text": [
            "CPU times: user 19.7 ms, sys: 16.7 ms, total: 36.5 ms\n",
            "Wall time: 2.05 s\n"
          ]
        }
      ]
    },
    {
      "cell_type": "markdown",
      "metadata": {
        "id": "xd7oSoXmT4Zz"
      },
      "source": [
        "Confirm that the output file went to the right place:"
      ]
    },
    {
      "cell_type": "code",
      "metadata": {
        "id": "tcEUB1RzT4Zz",
        "colab": {
          "base_uri": "https://localhost:8080/"
        },
        "outputId": "3ba79dca-3c4f-4246-8d93-f206bc60f116"
      },
      "source": [
        "!ls -l $OUT"
      ],
      "execution_count": null,
      "outputs": [
        {
          "output_type": "stream",
          "name": "stdout",
          "text": [
            "total 260\n",
            "-rw-r--r-- 1 root root 260003 Oct 23 18:50 metadata.p31.count.tsv\n",
            "drwxr-xr-x 2 root root   4096 Oct 23 18:50 temp.tutorial-profiling\n"
          ]
        }
      ]
    },
    {
      "cell_type": "markdown",
      "metadata": {
        "id": "YSuvP4c1T4Z0"
      },
      "source": [
        "Load the `P31count` graph in the KGTK cache so that we can use it in queries later"
      ]
    },
    {
      "cell_type": "code",
      "metadata": {
        "id": "jP_3mz8TT4Z0",
        "colab": {
          "base_uri": "https://localhost:8080/",
          "height": 112
        },
        "outputId": "9ed9886a-ba6f-4626-fc97-9b3f80a787bc"
      },
      "source": [
        "kgtk(\"\"\"\n",
        "    query -i $OUT/metadata.p31.count.tsv --as p31count --limit 2\n",
        "\"\"\")"
      ],
      "execution_count": null,
      "outputs": [
        {
          "output_type": "execute_result",
          "data": {
            "text/html": [
              "<div>\n",
              "<style scoped>\n",
              "    .dataframe tbody tr th:only-of-type {\n",
              "        vertical-align: middle;\n",
              "    }\n",
              "\n",
              "    .dataframe tbody tr th {\n",
              "        vertical-align: top;\n",
              "    }\n",
              "\n",
              "    .dataframe thead th {\n",
              "        text-align: right;\n",
              "    }\n",
              "</style>\n",
              "<table border=\"1\" class=\"dataframe\">\n",
              "  <thead>\n",
              "    <tr style=\"text-align: right;\">\n",
              "      <th></th>\n",
              "      <th>node1</th>\n",
              "      <th>label</th>\n",
              "      <th>node2</th>\n",
              "      <th>id</th>\n",
              "    </tr>\n",
              "  </thead>\n",
              "  <tbody>\n",
              "    <tr>\n",
              "      <th>0</th>\n",
              "      <td>Q5</td>\n",
              "      <td>P31count</td>\n",
              "      <td>13870</td>\n",
              "      <td>Q5-P31count-9a9c3a</td>\n",
              "    </tr>\n",
              "    <tr>\n",
              "      <th>1</th>\n",
              "      <td>Q15221623</td>\n",
              "      <td>P31count</td>\n",
              "      <td>3177</td>\n",
              "      <td>Q15221623-P31count-61d8c4</td>\n",
              "    </tr>\n",
              "  </tbody>\n",
              "</table>\n",
              "</div>"
            ],
            "text/plain": [
              "       node1     label  node2                         id\n",
              "0         Q5  P31count  13870         Q5-P31count-9a9c3a\n",
              "1  Q15221623  P31count   3177  Q15221623-P31count-61d8c4"
            ]
          },
          "metadata": {},
          "execution_count": 20
        }
      ]
    },
    {
      "cell_type": "markdown",
      "metadata": {
        "id": "8SZyp6vuT4Z0"
      },
      "source": [
        "Summary of this section:\n",
        "- In this section we computed the count of instances for every class in our KG.\n",
        "- We illustrated the use of `instance of (P31)` to do queries.\n",
        "- We illustrated common conventions to add identifiers to edges and to save results to files."
      ]
    },
    {
      "cell_type": "markdown",
      "metadata": {
        "id": "07UXmpUGT4Z0"
      },
      "source": [
        "## Compute `P31count_transitive`, the count of instances of a class including the instances of all the subclasses\n",
        "\n",
        "Approach:\n",
        "- get the class of each instance\n",
        "- get all the superclass of the class of each instance\n",
        "- for every superclass, count all the instances\n",
        "\n",
        "> This query will run at the scale of all Wikidata, which contains millions of classes\n",
        "\n",
        "We add the labels to see the results, not surprisingly, `entity` has the most instances, and the top classes are those at the top of the Wikidata ontology:"
      ]
    },
    {
      "cell_type": "code",
      "metadata": {
        "id": "P5-mvLRLT4Z0",
        "colab": {
          "base_uri": "https://localhost:8080/",
          "height": 458
        },
        "outputId": "b07fcf9a-f06f-474f-b292-b79e4dc5e3cc"
      },
      "source": [
        "%%time\n",
        "kgtk(\"\"\"\n",
        "    query -i all\n",
        "        --match '\n",
        "            (instance)-[:P31]->(class),\n",
        "            (class)-[:P279star]->(superclass)'\n",
        "        --return 'superclass as class, count(distinct instance) as count'\n",
        "        --order-by 'cast(count, int) desc'\n",
        "    / add-labels\n",
        "\"\"\")"
      ],
      "execution_count": null,
      "outputs": [
        {
          "output_type": "stream",
          "name": "stdout",
          "text": [
            "CPU times: user 280 ms, sys: 50.7 ms, total: 331 ms\n",
            "Wall time: 21.3 s\n"
          ]
        },
        {
          "output_type": "execute_result",
          "data": {
            "text/html": [
              "<div>\n",
              "<style scoped>\n",
              "    .dataframe tbody tr th:only-of-type {\n",
              "        vertical-align: middle;\n",
              "    }\n",
              "\n",
              "    .dataframe tbody tr th {\n",
              "        vertical-align: top;\n",
              "    }\n",
              "\n",
              "    .dataframe thead th {\n",
              "        text-align: right;\n",
              "    }\n",
              "</style>\n",
              "<table border=\"1\" class=\"dataframe\">\n",
              "  <thead>\n",
              "    <tr style=\"text-align: right;\">\n",
              "      <th></th>\n",
              "      <th>class</th>\n",
              "      <th>count</th>\n",
              "      <th>class;label</th>\n",
              "    </tr>\n",
              "  </thead>\n",
              "  <tbody>\n",
              "    <tr>\n",
              "      <th>0</th>\n",
              "      <td>Q35120</td>\n",
              "      <td>58187</td>\n",
              "      <td>'entity'@en</td>\n",
              "    </tr>\n",
              "    <tr>\n",
              "      <th>1</th>\n",
              "      <td>Q99527517</td>\n",
              "      <td>38311</td>\n",
              "      <td>'collection entity'@en</td>\n",
              "    </tr>\n",
              "    <tr>\n",
              "      <th>2</th>\n",
              "      <td>Q28813620</td>\n",
              "      <td>35497</td>\n",
              "      <td>'set'@en</td>\n",
              "    </tr>\n",
              "    <tr>\n",
              "      <th>3</th>\n",
              "      <td>Q16887380</td>\n",
              "      <td>35476</td>\n",
              "      <td>'group'@en</td>\n",
              "    </tr>\n",
              "    <tr>\n",
              "      <th>4</th>\n",
              "      <td>Q58415929</td>\n",
              "      <td>30782</td>\n",
              "      <td>'spatio-temporal entity'@en</td>\n",
              "    </tr>\n",
              "    <tr>\n",
              "      <th>...</th>\n",
              "      <td>...</td>\n",
              "      <td>...</td>\n",
              "      <td>...</td>\n",
              "    </tr>\n",
              "    <tr>\n",
              "      <th>8897</th>\n",
              "      <td>Q99772908</td>\n",
              "      <td>1</td>\n",
              "      <td>'anthropomorphic equine'@en</td>\n",
              "    </tr>\n",
              "    <tr>\n",
              "      <th>8898</th>\n",
              "      <td>Q99860490</td>\n",
              "      <td>1</td>\n",
              "      <td>'neurological and physiological symptom'@en</td>\n",
              "    </tr>\n",
              "    <tr>\n",
              "      <th>8899</th>\n",
              "      <td>Q99960791</td>\n",
              "      <td>1</td>\n",
              "      <td>'ministry of Andorra'@en</td>\n",
              "    </tr>\n",
              "    <tr>\n",
              "      <th>8900</th>\n",
              "      <td>Q99969523</td>\n",
              "      <td>1</td>\n",
              "      <td>'anthropomorphic artiodactyla'@en</td>\n",
              "    </tr>\n",
              "    <tr>\n",
              "      <th>8901</th>\n",
              "      <td>Q99972219</td>\n",
              "      <td>1</td>\n",
              "      <td>'anthropomorphic suid'@en</td>\n",
              "    </tr>\n",
              "  </tbody>\n",
              "</table>\n",
              "<p>8902 rows × 3 columns</p>\n",
              "</div>"
            ],
            "text/plain": [
              "          class  count                                  class;label\n",
              "0        Q35120  58187                                  'entity'@en\n",
              "1     Q99527517  38311                       'collection entity'@en\n",
              "2     Q28813620  35497                                     'set'@en\n",
              "3     Q16887380  35476                                   'group'@en\n",
              "4     Q58415929  30782                  'spatio-temporal entity'@en\n",
              "...         ...    ...                                          ...\n",
              "8897  Q99772908      1                  'anthropomorphic equine'@en\n",
              "8898  Q99860490      1  'neurological and physiological symptom'@en\n",
              "8899  Q99960791      1                     'ministry of Andorra'@en\n",
              "8900  Q99969523      1            'anthropomorphic artiodactyla'@en\n",
              "8901  Q99972219      1                    'anthropomorphic suid'@en\n",
              "\n",
              "[8902 rows x 3 columns]"
            ]
          },
          "metadata": {},
          "execution_count": 21
        }
      ]
    },
    {
      "cell_type": "markdown",
      "metadata": {
        "id": "N_OtYqyaT4Z1"
      },
      "source": [
        "Store the results in a file using a new property `P31count_transitive`"
      ]
    },
    {
      "cell_type": "code",
      "metadata": {
        "id": "o1F0rNmuT4Z1",
        "colab": {
          "base_uri": "https://localhost:8080/"
        },
        "outputId": "442e6e63-e1b2-4c3d-ff29-bc0857a4b4be"
      },
      "source": [
        "%%time\n",
        "kgtk(\"\"\"\n",
        "    query -i all \n",
        "        --match '\n",
        "            (instance)-[:P31]->(class),\n",
        "            (class)-[:P279star]->(superclass)'\n",
        "        --return 'superclass as node1, \"P31count_transitive\" as label, count(distinct instance) as node2'\n",
        "        --order-by 'cast(node2, int) desc'\n",
        "    / add-id --id-style wikidata\n",
        "    -o $OUT/metadata.p31.count.transitive.tsv\n",
        "\"\"\")"
      ],
      "execution_count": null,
      "outputs": [
        {
          "output_type": "stream",
          "name": "stdout",
          "text": [
            "CPU times: user 112 ms, sys: 33.2 ms, total: 145 ms\n",
            "Wall time: 16 s\n"
          ]
        }
      ]
    },
    {
      "cell_type": "markdown",
      "metadata": {
        "id": "a5uOBKgdT4Z1"
      },
      "source": [
        "Find the number of instances of `Q5: human`, `artist: Q483501` and `film director: Q2526255`. There are many instances of human, but only one of artist and zero of film director."
      ]
    },
    {
      "cell_type": "code",
      "metadata": {
        "id": "Eq9UEEzwT4Z1",
        "colab": {
          "base_uri": "https://localhost:8080/",
          "height": 112
        },
        "outputId": "cfaaecfe-d4d9-48c6-ea5e-22f2414eca47"
      },
      "source": [
        "kgtk(\"\"\"\n",
        "    filter -i $OUT/metadata.p31.count.transitive.tsv -p \"Q5, Q483501, Q2526255 ;;\" / add-labels\n",
        "\"\"\")"
      ],
      "execution_count": null,
      "outputs": [
        {
          "output_type": "execute_result",
          "data": {
            "text/html": [
              "<div>\n",
              "<style scoped>\n",
              "    .dataframe tbody tr th:only-of-type {\n",
              "        vertical-align: middle;\n",
              "    }\n",
              "\n",
              "    .dataframe tbody tr th {\n",
              "        vertical-align: top;\n",
              "    }\n",
              "\n",
              "    .dataframe thead th {\n",
              "        text-align: right;\n",
              "    }\n",
              "</style>\n",
              "<table border=\"1\" class=\"dataframe\">\n",
              "  <thead>\n",
              "    <tr style=\"text-align: right;\">\n",
              "      <th></th>\n",
              "      <th>node1</th>\n",
              "      <th>label</th>\n",
              "      <th>node2</th>\n",
              "      <th>id</th>\n",
              "      <th>node1;label</th>\n",
              "    </tr>\n",
              "  </thead>\n",
              "  <tbody>\n",
              "    <tr>\n",
              "      <th>0</th>\n",
              "      <td>Q5</td>\n",
              "      <td>P31count_transitive</td>\n",
              "      <td>13941</td>\n",
              "      <td>Q5-P31count_transitive-76febd</td>\n",
              "      <td>'human'@en</td>\n",
              "    </tr>\n",
              "    <tr>\n",
              "      <th>1</th>\n",
              "      <td>Q483501</td>\n",
              "      <td>P31count_transitive</td>\n",
              "      <td>1</td>\n",
              "      <td>Q483501-P31count_transitive-6b86b2</td>\n",
              "      <td>'artist'@en</td>\n",
              "    </tr>\n",
              "  </tbody>\n",
              "</table>\n",
              "</div>"
            ],
            "text/plain": [
              "     node1  ...  node1;label\n",
              "0       Q5  ...   'human'@en\n",
              "1  Q483501  ...  'artist'@en\n",
              "\n",
              "[2 rows x 5 columns]"
            ]
          },
          "metadata": {},
          "execution_count": 23
        }
      ]
    },
    {
      "cell_type": "markdown",
      "metadata": {
        "id": "eMc-js9oT4Z2"
      },
      "source": [
        "The reason there are no instances of `artist: Q483501` or `film director: Q2526255`  is that Wikidata uses the property `occupation: P106` to relate people to their occupations, so the connection between human and artist of director is not `instance of: P31`. It would be nice if the browser page for `artist: Q483501` or `film director: Q2526255` would show the number of people with this occupation. DBpedia uses a different model where humans are instances of artist or film director.\n"
      ]
    },
    {
      "cell_type": "markdown",
      "metadata": {
        "id": "uYjC-vpiT4Z2"
      },
      "source": [
        "### Summary of this section\n",
        "In this section we:\n",
        "- Computed the count of instaces of every class, including all subclasses.\n",
        "- Introduced `P279star`, the precomputed transitive closure of the Wikidata `subclass of (P279)` property that allows you to conveniently do queries over all super classes or subclasses of an entity."
      ]
    },
    {
      "cell_type": "markdown",
      "metadata": {
        "tags": [],
        "id": "UqWoVNEWT4Z2"
      },
      "source": [
        "## Define `P31x`, a generalization of `instance of: P31`\n",
        "\n",
        "In our KG we are going to define a new property called `instance of (generalized): P31x` that behaves like DBpedia, so that we can ask for instances of `artist: Q483501`.\n",
        "We do this by generalizing `occupation: P106` abd `position held: 39` to also behave as `P31` statements.\n",
        "\n",
        "Approach:\n",
        "- Combine `x P31 y`, `x P106 y` and `x P39 y` statements using a new `P31x` predicate"
      ]
    },
    {
      "cell_type": "markdown",
      "metadata": {
        "id": "zWhMoYmpT4Z2"
      },
      "source": [
        "Use the `filter` to take a peek at the data and see whether our plan makes sense."
      ]
    },
    {
      "cell_type": "code",
      "metadata": {
        "id": "LAD3YeAHT4Z2",
        "colab": {
          "base_uri": "https://localhost:8080/",
          "height": 363
        },
        "outputId": "609551a5-a24c-42cc-f40f-8c1e5c40ba02"
      },
      "source": [
        "kgtk(\"\"\"\n",
        "    filter -i $item -p \"; P39, P106 ;\"\n",
        "    / head\n",
        "    / add-labels\n",
        "\"\"\")"
      ],
      "execution_count": null,
      "outputs": [
        {
          "output_type": "execute_result",
          "data": {
            "text/html": [
              "<div>\n",
              "<style scoped>\n",
              "    .dataframe tbody tr th:only-of-type {\n",
              "        vertical-align: middle;\n",
              "    }\n",
              "\n",
              "    .dataframe tbody tr th {\n",
              "        vertical-align: top;\n",
              "    }\n",
              "\n",
              "    .dataframe thead th {\n",
              "        text-align: right;\n",
              "    }\n",
              "</style>\n",
              "<table border=\"1\" class=\"dataframe\">\n",
              "  <thead>\n",
              "    <tr style=\"text-align: right;\">\n",
              "      <th></th>\n",
              "      <th>node1</th>\n",
              "      <th>label</th>\n",
              "      <th>node2</th>\n",
              "      <th>id</th>\n",
              "      <th>node2;wikidatatype</th>\n",
              "      <th>node1;label</th>\n",
              "      <th>label;label</th>\n",
              "      <th>node2;label</th>\n",
              "    </tr>\n",
              "  </thead>\n",
              "  <tbody>\n",
              "    <tr>\n",
              "      <th>0</th>\n",
              "      <td>Q1000048</td>\n",
              "      <td>P106</td>\n",
              "      <td>Q1622272</td>\n",
              "      <td>Q1000048-P106-Q1622272-3a1be6b5-0</td>\n",
              "      <td>wikibase-item</td>\n",
              "      <td>'Franz Zimmermann'@en</td>\n",
              "      <td>'occupation'@en</td>\n",
              "      <td>'university teacher'@en</td>\n",
              "    </tr>\n",
              "    <tr>\n",
              "      <th>1</th>\n",
              "      <td>Q1000048</td>\n",
              "      <td>P106</td>\n",
              "      <td>Q16267607</td>\n",
              "      <td>Q1000048-P106-Q16267607-e13e45d1-0</td>\n",
              "      <td>wikibase-item</td>\n",
              "      <td>'Franz Zimmermann'@en</td>\n",
              "      <td>'occupation'@en</td>\n",
              "      <td>'classical philologist'@en</td>\n",
              "    </tr>\n",
              "    <tr>\n",
              "      <th>2</th>\n",
              "      <td>Q100063874</td>\n",
              "      <td>P39</td>\n",
              "      <td>Q1162163</td>\n",
              "      <td>Q100063874-P39-Q1162163-ae076e77-0</td>\n",
              "      <td>wikibase-item</td>\n",
              "      <td>'Catherine Musson'@en</td>\n",
              "      <td>'position held'@en</td>\n",
              "      <td>'director'@en</td>\n",
              "    </tr>\n",
              "    <tr>\n",
              "      <th>3</th>\n",
              "      <td>Q100066085</td>\n",
              "      <td>P39</td>\n",
              "      <td>Q1162163</td>\n",
              "      <td>Q100066085-P39-Q1162163-93ac33fd-0</td>\n",
              "      <td>wikibase-item</td>\n",
              "      <td>'Anne-Laurence Mennessier'@en</td>\n",
              "      <td>'position held'@en</td>\n",
              "      <td>'director'@en</td>\n",
              "    </tr>\n",
              "    <tr>\n",
              "      <th>4</th>\n",
              "      <td>Q1001</td>\n",
              "      <td>P106</td>\n",
              "      <td>Q11774202</td>\n",
              "      <td>Q1001-P106-Q11774202-45d8eb34-0</td>\n",
              "      <td>wikibase-item</td>\n",
              "      <td>'Mahatma Gandhi'@en</td>\n",
              "      <td>'occupation'@en</td>\n",
              "      <td>'essayist'@en</td>\n",
              "    </tr>\n",
              "    <tr>\n",
              "      <th>5</th>\n",
              "      <td>Q1001</td>\n",
              "      <td>P106</td>\n",
              "      <td>Q17351648</td>\n",
              "      <td>Q1001-P106-Q17351648-e64838e9-0</td>\n",
              "      <td>wikibase-item</td>\n",
              "      <td>'Mahatma Gandhi'@en</td>\n",
              "      <td>'occupation'@en</td>\n",
              "      <td>'newspaper editor'@en</td>\n",
              "    </tr>\n",
              "    <tr>\n",
              "      <th>6</th>\n",
              "      <td>Q1001</td>\n",
              "      <td>P106</td>\n",
              "      <td>Q1930187</td>\n",
              "      <td>Q1001-P106-Q1930187-6cf568db-0</td>\n",
              "      <td>wikibase-item</td>\n",
              "      <td>'Mahatma Gandhi'@en</td>\n",
              "      <td>'occupation'@en</td>\n",
              "      <td>'journalist'@en</td>\n",
              "    </tr>\n",
              "    <tr>\n",
              "      <th>7</th>\n",
              "      <td>Q1001</td>\n",
              "      <td>P106</td>\n",
              "      <td>Q4964182</td>\n",
              "      <td>Q1001-P106-Q4964182-a0867b04-0</td>\n",
              "      <td>wikibase-item</td>\n",
              "      <td>'Mahatma Gandhi'@en</td>\n",
              "      <td>'occupation'@en</td>\n",
              "      <td>'philosopher'@en</td>\n",
              "    </tr>\n",
              "    <tr>\n",
              "      <th>8</th>\n",
              "      <td>Q1001</td>\n",
              "      <td>P106</td>\n",
              "      <td>Q808967</td>\n",
              "      <td>Q1001-P106-Q808967-57fe7a7e-0</td>\n",
              "      <td>wikibase-item</td>\n",
              "      <td>'Mahatma Gandhi'@en</td>\n",
              "      <td>'occupation'@en</td>\n",
              "      <td>'barrister'@en</td>\n",
              "    </tr>\n",
              "    <tr>\n",
              "      <th>9</th>\n",
              "      <td>Q100159381</td>\n",
              "      <td>P106</td>\n",
              "      <td>Q37226</td>\n",
              "      <td>Q100159381-P106-Q37226-d95f0b81-0</td>\n",
              "      <td>wikibase-item</td>\n",
              "      <td>'Victor Cherner'@en</td>\n",
              "      <td>'occupation'@en</td>\n",
              "      <td>'teacher'@en</td>\n",
              "    </tr>\n",
              "  </tbody>\n",
              "</table>\n",
              "</div>"
            ],
            "text/plain": [
              "        node1 label  ...         label;label                 node2;label\n",
              "0    Q1000048  P106  ...     'occupation'@en     'university teacher'@en\n",
              "1    Q1000048  P106  ...     'occupation'@en  'classical philologist'@en\n",
              "2  Q100063874   P39  ...  'position held'@en               'director'@en\n",
              "3  Q100066085   P39  ...  'position held'@en               'director'@en\n",
              "4       Q1001  P106  ...     'occupation'@en               'essayist'@en\n",
              "5       Q1001  P106  ...     'occupation'@en       'newspaper editor'@en\n",
              "6       Q1001  P106  ...     'occupation'@en             'journalist'@en\n",
              "7       Q1001  P106  ...     'occupation'@en            'philosopher'@en\n",
              "8       Q1001  P106  ...     'occupation'@en              'barrister'@en\n",
              "9  Q100159381  P106  ...     'occupation'@en                'teacher'@en\n",
              "\n",
              "[10 rows x 8 columns]"
            ]
          },
          "metadata": {},
          "execution_count": 24
        }
      ]
    },
    {
      "cell_type": "markdown",
      "metadata": {
        "id": "yls9O-B_T4Z2"
      },
      "source": [
        "Select all the `P31`, `P39` and `P106` statements and rewrite them as `P31x` statements, and also make sure that we do this only for humans:"
      ]
    },
    {
      "cell_type": "code",
      "metadata": {
        "id": "cPx126PuT4Z3",
        "colab": {
          "base_uri": "https://localhost:8080/",
          "height": 363
        },
        "outputId": "92d7f2d7-4e41-401c-a0dd-04515c40975d"
      },
      "source": [
        "kgtk(\"\"\"\n",
        "    query -i all\n",
        "        --match '\n",
        "            (n1)-[:P31]->(:Q5),\n",
        "            (n1)-[r {label: property}]->(n2)'\n",
        "        --where 'property in [\"P106\", \"P39\", \"P31\"]'\n",
        "        --return 'distinct n1 as node1, \"P31x\" as label, n2 as node2'\n",
        "        --limit 10\n",
        "    / add-labels\n",
        "\"\"\")"
      ],
      "execution_count": null,
      "outputs": [
        {
          "output_type": "execute_result",
          "data": {
            "text/html": [
              "<div>\n",
              "<style scoped>\n",
              "    .dataframe tbody tr th:only-of-type {\n",
              "        vertical-align: middle;\n",
              "    }\n",
              "\n",
              "    .dataframe tbody tr th {\n",
              "        vertical-align: top;\n",
              "    }\n",
              "\n",
              "    .dataframe thead th {\n",
              "        text-align: right;\n",
              "    }\n",
              "</style>\n",
              "<table border=\"1\" class=\"dataframe\">\n",
              "  <thead>\n",
              "    <tr style=\"text-align: right;\">\n",
              "      <th></th>\n",
              "      <th>node1</th>\n",
              "      <th>label</th>\n",
              "      <th>node2</th>\n",
              "      <th>node1;label</th>\n",
              "      <th>node2;label</th>\n",
              "    </tr>\n",
              "  </thead>\n",
              "  <tbody>\n",
              "    <tr>\n",
              "      <th>0</th>\n",
              "      <td>Q1000048</td>\n",
              "      <td>P31x</td>\n",
              "      <td>Q1622272</td>\n",
              "      <td>'Franz Zimmermann'@en</td>\n",
              "      <td>'university teacher'@en</td>\n",
              "    </tr>\n",
              "    <tr>\n",
              "      <th>1</th>\n",
              "      <td>Q1000048</td>\n",
              "      <td>P31x</td>\n",
              "      <td>Q16267607</td>\n",
              "      <td>'Franz Zimmermann'@en</td>\n",
              "      <td>'classical philologist'@en</td>\n",
              "    </tr>\n",
              "    <tr>\n",
              "      <th>2</th>\n",
              "      <td>Q1000048</td>\n",
              "      <td>P31x</td>\n",
              "      <td>Q5</td>\n",
              "      <td>'Franz Zimmermann'@en</td>\n",
              "      <td>'human'@en</td>\n",
              "    </tr>\n",
              "    <tr>\n",
              "      <th>3</th>\n",
              "      <td>Q1000061</td>\n",
              "      <td>P31x</td>\n",
              "      <td>Q5</td>\n",
              "      <td>'Valentyn Symonenko'@en</td>\n",
              "      <td>'human'@en</td>\n",
              "    </tr>\n",
              "    <tr>\n",
              "      <th>4</th>\n",
              "      <td>Q100063874</td>\n",
              "      <td>P31x</td>\n",
              "      <td>Q5</td>\n",
              "      <td>'Catherine Musson'@en</td>\n",
              "      <td>'human'@en</td>\n",
              "    </tr>\n",
              "    <tr>\n",
              "      <th>5</th>\n",
              "      <td>Q100063874</td>\n",
              "      <td>P31x</td>\n",
              "      <td>Q1162163</td>\n",
              "      <td>'Catherine Musson'@en</td>\n",
              "      <td>'director'@en</td>\n",
              "    </tr>\n",
              "    <tr>\n",
              "      <th>6</th>\n",
              "      <td>Q100066085</td>\n",
              "      <td>P31x</td>\n",
              "      <td>Q5</td>\n",
              "      <td>'Anne-Laurence Mennessier'@en</td>\n",
              "      <td>'human'@en</td>\n",
              "    </tr>\n",
              "    <tr>\n",
              "      <th>7</th>\n",
              "      <td>Q100066085</td>\n",
              "      <td>P31x</td>\n",
              "      <td>Q1162163</td>\n",
              "      <td>'Anne-Laurence Mennessier'@en</td>\n",
              "      <td>'director'@en</td>\n",
              "    </tr>\n",
              "    <tr>\n",
              "      <th>8</th>\n",
              "      <td>Q1001</td>\n",
              "      <td>P31x</td>\n",
              "      <td>Q11774202</td>\n",
              "      <td>'Mahatma Gandhi'@en</td>\n",
              "      <td>'essayist'@en</td>\n",
              "    </tr>\n",
              "    <tr>\n",
              "      <th>9</th>\n",
              "      <td>Q1001</td>\n",
              "      <td>P31x</td>\n",
              "      <td>Q17351648</td>\n",
              "      <td>'Mahatma Gandhi'@en</td>\n",
              "      <td>'newspaper editor'@en</td>\n",
              "    </tr>\n",
              "  </tbody>\n",
              "</table>\n",
              "</div>"
            ],
            "text/plain": [
              "        node1 label  ...                    node1;label                 node2;label\n",
              "0    Q1000048  P31x  ...          'Franz Zimmermann'@en     'university teacher'@en\n",
              "1    Q1000048  P31x  ...          'Franz Zimmermann'@en  'classical philologist'@en\n",
              "2    Q1000048  P31x  ...          'Franz Zimmermann'@en                  'human'@en\n",
              "3    Q1000061  P31x  ...        'Valentyn Symonenko'@en                  'human'@en\n",
              "4  Q100063874  P31x  ...          'Catherine Musson'@en                  'human'@en\n",
              "5  Q100063874  P31x  ...          'Catherine Musson'@en               'director'@en\n",
              "6  Q100066085  P31x  ...  'Anne-Laurence Mennessier'@en                  'human'@en\n",
              "7  Q100066085  P31x  ...  'Anne-Laurence Mennessier'@en               'director'@en\n",
              "8       Q1001  P31x  ...            'Mahatma Gandhi'@en               'essayist'@en\n",
              "9       Q1001  P31x  ...            'Mahatma Gandhi'@en       'newspaper editor'@en\n",
              "\n",
              "[10 rows x 5 columns]"
            ]
          },
          "metadata": {},
          "execution_count": 25
        }
      ]
    },
    {
      "cell_type": "markdown",
      "metadata": {
        "id": "kepotkKIT4Z3"
      },
      "source": [
        "The query needs to be more sophisticated, because the previous query adds the extended `instance of` only to humans. If we don't do this, fictional characters that have occupations end up below `human (Q5)` due to the way the Wikidata ontology is structure. The fix is to concatenate (`cat`)the results of the previuos query with the original `instance of (P31)` graph and to deduplicate (`compact`).\n",
        "The resulting graph goes in file `derived.P31x.tsv`:"
      ]
    },
    {
      "cell_type": "code",
      "metadata": {
        "id": "WZ1X-Dn0T4Z3",
        "colab": {
          "base_uri": "https://localhost:8080/"
        },
        "outputId": "5a71d56f-a3f2-4ce0-a37f-7deeb09d7103"
      },
      "source": [
        "%%time\n",
        "kgtk(\"\"\"\n",
        "    query -i item\n",
        "        --match '\n",
        "            (n1)-[:P31]->(:Q5),\n",
        "            (n1)-[r {label: property}]->(n2)'\n",
        "        --where 'property in [\"P106\", \"P39\", \"P31\"]'\n",
        "        --return 'distinct n1 as node1, \"P31x\" as label, n2 as node2'\n",
        "    / add-id --id-style wikidata\n",
        "    / cat -i - -i $p31\n",
        "    / compact\n",
        "    -o $OUT/derived.P31x.tsv\n",
        "\"\"\")"
      ],
      "execution_count": null,
      "outputs": [
        {
          "output_type": "stream",
          "name": "stdout",
          "text": [
            "CPU times: user 51.4 ms, sys: 25.3 ms, total: 76.7 ms\n",
            "Wall time: 7.4 s\n"
          ]
        }
      ]
    },
    {
      "cell_type": "markdown",
      "metadata": {
        "id": "58Nto6X1T4Z3"
      },
      "source": [
        "Load the `p31x` graph defining our generalized `instance of` property:"
      ]
    },
    {
      "cell_type": "code",
      "metadata": {
        "id": "-Vf4N9VXT4Z3",
        "colab": {
          "base_uri": "https://localhost:8080/",
          "height": 112
        },
        "outputId": "a7f9921a-c184-40a3-8e9b-330adb3071fb"
      },
      "source": [
        "kgtk(\"\"\"\n",
        "    query -i $OUT/derived.P31x.tsv --as p31x --limit 2\n",
        "\"\"\")"
      ],
      "execution_count": null,
      "outputs": [
        {
          "output_type": "execute_result",
          "data": {
            "text/html": [
              "<div>\n",
              "<style scoped>\n",
              "    .dataframe tbody tr th:only-of-type {\n",
              "        vertical-align: middle;\n",
              "    }\n",
              "\n",
              "    .dataframe tbody tr th {\n",
              "        vertical-align: top;\n",
              "    }\n",
              "\n",
              "    .dataframe thead th {\n",
              "        text-align: right;\n",
              "    }\n",
              "</style>\n",
              "<table border=\"1\" class=\"dataframe\">\n",
              "  <thead>\n",
              "    <tr style=\"text-align: right;\">\n",
              "      <th></th>\n",
              "      <th>node1</th>\n",
              "      <th>label</th>\n",
              "      <th>node2</th>\n",
              "      <th>id</th>\n",
              "    </tr>\n",
              "  </thead>\n",
              "  <tbody>\n",
              "    <tr>\n",
              "      <th>0</th>\n",
              "      <td>P10</td>\n",
              "      <td>P31</td>\n",
              "      <td>Q18610173</td>\n",
              "      <td>P10-P31-Q18610173-85ef4d24-0</td>\n",
              "    </tr>\n",
              "    <tr>\n",
              "      <th>1</th>\n",
              "      <td>P1000</td>\n",
              "      <td>P31</td>\n",
              "      <td>Q18608871</td>\n",
              "      <td>P1000-P31-Q18608871-093affb5-0</td>\n",
              "    </tr>\n",
              "  </tbody>\n",
              "</table>\n",
              "</div>"
            ],
            "text/plain": [
              "   node1 label      node2                              id\n",
              "0    P10   P31  Q18610173    P10-P31-Q18610173-85ef4d24-0\n",
              "1  P1000   P31  Q18608871  P1000-P31-Q18608871-093affb5-0"
            ]
          },
          "metadata": {},
          "execution_count": 27
        }
      ]
    },
    {
      "cell_type": "markdown",
      "metadata": {
        "id": "jPbJx91sT4Z4"
      },
      "source": [
        "Now we can fix our `P31count_transitive` property to also include classes such as `film director (Q2526255)`. Use the new `P31x` graph to substitute `P31x` for `P31` in our query that computes the class counts:"
      ]
    },
    {
      "cell_type": "code",
      "metadata": {
        "id": "zPeTS6A4T4Z4",
        "colab": {
          "base_uri": "https://localhost:8080/"
        },
        "outputId": "0142caf8-6c01-4cbd-af83-e622df3bf9b0"
      },
      "source": [
        "%%time\n",
        "kgtk(\"\"\"\n",
        "    query -i all -i p31x\n",
        "        --match '\n",
        "            p31x: (instance)-[:P31x]->(class),\n",
        "            all: (class)-[:P279star]->(superclass)'\n",
        "        --return 'superclass as node1, \"P31xcount_transitive\" as label, count(distinct instance) as node2'\n",
        "        --order-by 'cast(node2, int) desc'\n",
        "    / add-id --id-style wikidata\n",
        "    -o $OUT/metadata.p31x.count.transitive.tsv\n",
        "\"\"\")"
      ],
      "execution_count": null,
      "outputs": [
        {
          "output_type": "stream",
          "name": "stdout",
          "text": [
            "CPU times: user 30.7 ms, sys: 13.1 ms, total: 43.9 ms\n",
            "Wall time: 4.39 s\n"
          ]
        }
      ]
    },
    {
      "cell_type": "markdown",
      "metadata": {
        "id": "js61LuzRT4Z4"
      },
      "source": [
        "Redo our query to get the number of instances of `Q5: human`, `artist: Q483501` and `film director: Q2526255`.\n",
        "Now we get more reasonable counts for artist and film directors:"
      ]
    },
    {
      "cell_type": "code",
      "metadata": {
        "id": "_O_6oj5UT4Z4",
        "colab": {
          "base_uri": "https://localhost:8080/",
          "height": 143
        },
        "outputId": "00d84e41-6f6f-4c59-a08a-51f78239fb9b"
      },
      "source": [
        "kgtk(\"\"\"\n",
        "    filter -i $OUT/metadata.p31x.count.transitive.tsv -p \"Q5, Q483501, Q2526255 ;;\" / add-labels\n",
        "\"\"\")"
      ],
      "execution_count": null,
      "outputs": [
        {
          "output_type": "execute_result",
          "data": {
            "text/html": [
              "<div>\n",
              "<style scoped>\n",
              "    .dataframe tbody tr th:only-of-type {\n",
              "        vertical-align: middle;\n",
              "    }\n",
              "\n",
              "    .dataframe tbody tr th {\n",
              "        vertical-align: top;\n",
              "    }\n",
              "\n",
              "    .dataframe thead th {\n",
              "        text-align: right;\n",
              "    }\n",
              "</style>\n",
              "<table border=\"1\" class=\"dataframe\">\n",
              "  <thead>\n",
              "    <tr style=\"text-align: right;\">\n",
              "      <th></th>\n",
              "      <th>node1</th>\n",
              "      <th>label</th>\n",
              "      <th>node2</th>\n",
              "      <th>id</th>\n",
              "      <th>node1;label</th>\n",
              "    </tr>\n",
              "  </thead>\n",
              "  <tbody>\n",
              "    <tr>\n",
              "      <th>0</th>\n",
              "      <td>Q5</td>\n",
              "      <td>P31xcount_transitive</td>\n",
              "      <td>13870</td>\n",
              "      <td>Q5-P31xcount_transitive-9a9c3a</td>\n",
              "      <td>'human'@en</td>\n",
              "    </tr>\n",
              "    <tr>\n",
              "      <th>1</th>\n",
              "      <td>Q483501</td>\n",
              "      <td>P31xcount_transitive</td>\n",
              "      <td>2575</td>\n",
              "      <td>Q483501-P31xcount_transitive-e7303a</td>\n",
              "      <td>'artist'@en</td>\n",
              "    </tr>\n",
              "    <tr>\n",
              "      <th>2</th>\n",
              "      <td>Q2526255</td>\n",
              "      <td>P31xcount_transitive</td>\n",
              "      <td>674</td>\n",
              "      <td>Q2526255-P31xcount_transitive-8ef532</td>\n",
              "      <td>'film director'@en</td>\n",
              "    </tr>\n",
              "  </tbody>\n",
              "</table>\n",
              "</div>"
            ],
            "text/plain": [
              "      node1  ...         node1;label\n",
              "0        Q5  ...          'human'@en\n",
              "1   Q483501  ...         'artist'@en\n",
              "2  Q2526255  ...  'film director'@en\n",
              "\n",
              "[3 rows x 5 columns]"
            ]
          },
          "metadata": {},
          "execution_count": 29
        }
      ]
    },
    {
      "cell_type": "markdown",
      "metadata": {
        "id": "QUnNKPzBT4Z4"
      },
      "source": [
        "Find out the classes that appear in the new file that didn't appear in the old file. To do this we use the `ifnotexists` command that can be used to subtract the statements of one grpah from the statements from another graph.\n",
        "> Some classes may appear in both graphs and have their counts updated (e.g., artists appeared with a count of 1 before):"
      ]
    },
    {
      "cell_type": "code",
      "metadata": {
        "id": "N1EF472ZT4Z4",
        "colab": {
          "base_uri": "https://localhost:8080/",
          "height": 424
        },
        "outputId": "501ba3ba-6c77-4aaa-e920-51369bed7584"
      },
      "source": [
        "kgtk(\"\"\"\n",
        "    ifnotexists -i $OUT/metadata.p31x.count.transitive.tsv\n",
        "        --filter-on $OUT/metadata.p31.count.transitive.tsv\n",
        "        --input-keys node1\n",
        "        --filter-keys node1\n",
        "    / add-labels\n",
        "\"\"\")"
      ],
      "execution_count": null,
      "outputs": [
        {
          "output_type": "execute_result",
          "data": {
            "text/html": [
              "<div>\n",
              "<style scoped>\n",
              "    .dataframe tbody tr th:only-of-type {\n",
              "        vertical-align: middle;\n",
              "    }\n",
              "\n",
              "    .dataframe tbody tr th {\n",
              "        vertical-align: top;\n",
              "    }\n",
              "\n",
              "    .dataframe thead th {\n",
              "        text-align: right;\n",
              "    }\n",
              "</style>\n",
              "<table border=\"1\" class=\"dataframe\">\n",
              "  <thead>\n",
              "    <tr style=\"text-align: right;\">\n",
              "      <th></th>\n",
              "      <th>node1</th>\n",
              "      <th>label</th>\n",
              "      <th>node2</th>\n",
              "      <th>id</th>\n",
              "      <th>node1;label</th>\n",
              "    </tr>\n",
              "  </thead>\n",
              "  <tbody>\n",
              "    <tr>\n",
              "      <th>0</th>\n",
              "      <td>Q713200</td>\n",
              "      <td>P31xcount_transitive</td>\n",
              "      <td>1912</td>\n",
              "      <td>Q713200-P31xcount_transitive-a991b8</td>\n",
              "      <td>'performing artist'@en</td>\n",
              "    </tr>\n",
              "    <tr>\n",
              "      <th>1</th>\n",
              "      <td>Q33999</td>\n",
              "      <td>P31xcount_transitive</td>\n",
              "      <td>1911</td>\n",
              "      <td>Q33999-P31xcount_transitive-dc4bc8</td>\n",
              "      <td>'actor'@en</td>\n",
              "    </tr>\n",
              "    <tr>\n",
              "      <th>2</th>\n",
              "      <td>Q15980804</td>\n",
              "      <td>P31xcount_transitive</td>\n",
              "      <td>1400</td>\n",
              "      <td>Q15980804-P31xcount_transitive-55fdec</td>\n",
              "      <td>'media professional'@en</td>\n",
              "    </tr>\n",
              "    <tr>\n",
              "      <th>3</th>\n",
              "      <td>Q2285706</td>\n",
              "      <td>P31xcount_transitive</td>\n",
              "      <td>1222</td>\n",
              "      <td>Q2285706-P31xcount_transitive-16a3e9</td>\n",
              "      <td>'head of government'@en</td>\n",
              "    </tr>\n",
              "    <tr>\n",
              "      <th>4</th>\n",
              "      <td>Q3282637</td>\n",
              "      <td>P31xcount_transitive</td>\n",
              "      <td>881</td>\n",
              "      <td>Q3282637-P31xcount_transitive-28096b</td>\n",
              "      <td>'film producer'@en</td>\n",
              "    </tr>\n",
              "    <tr>\n",
              "      <th>...</th>\n",
              "      <td>...</td>\n",
              "      <td>...</td>\n",
              "      <td>...</td>\n",
              "      <td>...</td>\n",
              "      <td>...</td>\n",
              "    </tr>\n",
              "    <tr>\n",
              "      <th>902</th>\n",
              "      <td>Q957729</td>\n",
              "      <td>P31xcount_transitive</td>\n",
              "      <td>1</td>\n",
              "      <td>Q957729-P31xcount_transitive-6b86b2</td>\n",
              "      <td>'photojournalist'@en</td>\n",
              "    </tr>\n",
              "    <tr>\n",
              "      <th>903</th>\n",
              "      <td>Q96172702</td>\n",
              "      <td>P31xcount_transitive</td>\n",
              "      <td>1</td>\n",
              "      <td>Q96172702-P31xcount_transitive-6b86b2</td>\n",
              "      <td>'Minister General of the Order of Franciscans'@en</td>\n",
              "    </tr>\n",
              "    <tr>\n",
              "      <th>904</th>\n",
              "      <td>Q978708</td>\n",
              "      <td>P31xcount_transitive</td>\n",
              "      <td>1</td>\n",
              "      <td>Q978708-P31xcount_transitive-6b86b2</td>\n",
              "      <td>'Prime Minister of East Timor'@en</td>\n",
              "    </tr>\n",
              "    <tr>\n",
              "      <th>905</th>\n",
              "      <td>Q98084799</td>\n",
              "      <td>P31xcount_transitive</td>\n",
              "      <td>1</td>\n",
              "      <td>Q98084799-P31xcount_transitive-6b86b2</td>\n",
              "      <td>'professional photographer'@en</td>\n",
              "    </tr>\n",
              "    <tr>\n",
              "      <th>906</th>\n",
              "      <td>Q994779</td>\n",
              "      <td>P31xcount_transitive</td>\n",
              "      <td>1</td>\n",
              "      <td>Q994779-P31xcount_transitive-6b86b2</td>\n",
              "      <td>'delegate'@en</td>\n",
              "    </tr>\n",
              "  </tbody>\n",
              "</table>\n",
              "<p>907 rows × 5 columns</p>\n",
              "</div>"
            ],
            "text/plain": [
              "         node1  ...                                        node1;label\n",
              "0      Q713200  ...                             'performing artist'@en\n",
              "1       Q33999  ...                                         'actor'@en\n",
              "2    Q15980804  ...                            'media professional'@en\n",
              "3     Q2285706  ...                            'head of government'@en\n",
              "4     Q3282637  ...                                 'film producer'@en\n",
              "..         ...  ...                                                ...\n",
              "902    Q957729  ...                               'photojournalist'@en\n",
              "903  Q96172702  ...  'Minister General of the Order of Franciscans'@en\n",
              "904    Q978708  ...                  'Prime Minister of East Timor'@en\n",
              "905  Q98084799  ...                     'professional photographer'@en\n",
              "906    Q994779  ...                                      'delegate'@en\n",
              "\n",
              "[907 rows x 5 columns]"
            ]
          },
          "metadata": {},
          "execution_count": 30
        }
      ]
    },
    {
      "cell_type": "markdown",
      "metadata": {
        "id": "j8rdRby0T4Z5"
      },
      "source": [
        "### Summary of this section\n",
        "In this section we:\n",
        "- Computed  `P31x` representing our generalized instance of property. Results in `derived.P31x.tsv`.\n",
        "- Computed `P31xcount_transitive` as a revision of `P31count_transitive` to also include counts via occupation and position held links. Results in `metadata.p31x.count.transitive.tsv`.\n",
        "- Illustrated how to work with precomputed transitive closures (`P279star`), which enables KGTK to efficiently execute queries that otherwise would be very expensive"
      ]
    },
    {
      "cell_type": "markdown",
      "metadata": {
        "id": "Y8BYTkAaT4Z5"
      },
      "source": [
        "## Compute the number of times each property appears in a class\n",
        "\n",
        "In this section we will compute the distribution of the use of properties in every class in th KG. \n",
        "We want to know the count of the different properties used in all instance of a class.\n",
        "For example, if we look at `film (Q11424)` we want to see what properties are used to describe films, including all subclasses of film.\n",
        "\n",
        "Computing this distirbution is challenging because as the query below shows, there are many classes in our KG:"
      ]
    },
    {
      "cell_type": "code",
      "metadata": {
        "id": "Ugua0p-IT4Z5",
        "colab": {
          "base_uri": "https://localhost:8080/",
          "height": 81
        },
        "outputId": "a0adf4e1-52b4-4bcb-a247-c5282e4073f6"
      },
      "source": [
        "kgtk(\"\"\"\n",
        "    query -i all --match '(entity)-[:P279]->(class)' --return 'count(distinct class) as `count of classes`'\n",
        "\"\"\")"
      ],
      "execution_count": null,
      "outputs": [
        {
          "output_type": "execute_result",
          "data": {
            "text/html": [
              "<div>\n",
              "<style scoped>\n",
              "    .dataframe tbody tr th:only-of-type {\n",
              "        vertical-align: middle;\n",
              "    }\n",
              "\n",
              "    .dataframe tbody tr th {\n",
              "        vertical-align: top;\n",
              "    }\n",
              "\n",
              "    .dataframe thead th {\n",
              "        text-align: right;\n",
              "    }\n",
              "</style>\n",
              "<table border=\"1\" class=\"dataframe\">\n",
              "  <thead>\n",
              "    <tr style=\"text-align: right;\">\n",
              "      <th></th>\n",
              "      <th>count of classes</th>\n",
              "    </tr>\n",
              "  </thead>\n",
              "  <tbody>\n",
              "    <tr>\n",
              "      <th>0</th>\n",
              "      <td>7431</td>\n",
              "    </tr>\n",
              "  </tbody>\n",
              "</table>\n",
              "</div>"
            ],
            "text/plain": [
              "   count of classes\n",
              "0              7431"
            ]
          },
          "metadata": {},
          "execution_count": 31
        }
      ]
    },
    {
      "cell_type": "markdown",
      "metadata": {
        "id": "anpNvokKT4Z5"
      },
      "source": [
        "Approach: we divide the task into two steps:\n",
        "- For every entity, compute the set of properties used to describe it, and store this information in `item_properties.tsv`\n",
        "- For every class, collect all the instances below it, and count the number of times each property appears in `item_properties.tsv`\n",
        "\n",
        "The query for the first step is below. \n",
        "The first clause of the match clause gets the properties used in every instance of the KG.\n",
        "I included a second clause to get the data type of the property, and used the `--where` clause to exlude properties with external identifiers, as there are so many of them, and for the tutorial we want the query to run faster."
      ]
    },
    {
      "cell_type": "code",
      "metadata": {
        "id": "qRNghPjtT4Z5",
        "colab": {
          "base_uri": "https://localhost:8080/",
          "height": 458
        },
        "outputId": "088e4cfe-17ae-4cd5-bd22-4d594f708201"
      },
      "source": [
        "%%time\n",
        "kgtk(\"\"\"\n",
        "    query -i all\n",
        "        --match '\n",
        "            (entity)-[l {label: property}]->(),\n",
        "            (property)-[:datatype]->(datatype)'\n",
        "        --where 'datatype != \"external-id\"' \n",
        "        --return 'distinct entity as node1, \"Phas_property\" as label, property as node2'\n",
        "    / add-labels\n",
        "\"\"\")"
      ],
      "execution_count": null,
      "outputs": [
        {
          "output_type": "stream",
          "name": "stdout",
          "text": [
            "CPU times: user 8.05 s, sys: 2.38 s, total: 10.4 s\n",
            "Wall time: 26.7 s\n"
          ]
        },
        {
          "output_type": "execute_result",
          "data": {
            "text/html": [
              "<div>\n",
              "<style scoped>\n",
              "    .dataframe tbody tr th:only-of-type {\n",
              "        vertical-align: middle;\n",
              "    }\n",
              "\n",
              "    .dataframe tbody tr th {\n",
              "        vertical-align: top;\n",
              "    }\n",
              "\n",
              "    .dataframe thead th {\n",
              "        text-align: right;\n",
              "    }\n",
              "</style>\n",
              "<table border=\"1\" class=\"dataframe\">\n",
              "  <thead>\n",
              "    <tr style=\"text-align: right;\">\n",
              "      <th></th>\n",
              "      <th>node1</th>\n",
              "      <th>label</th>\n",
              "      <th>node2</th>\n",
              "      <th>node1;label</th>\n",
              "      <th>node2;label</th>\n",
              "    </tr>\n",
              "  </thead>\n",
              "  <tbody>\n",
              "    <tr>\n",
              "      <th>0</th>\n",
              "      <td>P8874</td>\n",
              "      <td>Phas_property</td>\n",
              "      <td>P1001</td>\n",
              "      <td>'Hong Kong film rating'@en</td>\n",
              "      <td>'applies to jurisdiction'@en</td>\n",
              "    </tr>\n",
              "    <tr>\n",
              "      <th>1</th>\n",
              "      <td>Q1001543</td>\n",
              "      <td>Phas_property</td>\n",
              "      <td>P1001</td>\n",
              "      <td>'Embassy of Finland, Budapest'@en</td>\n",
              "      <td>'applies to jurisdiction'@en</td>\n",
              "    </tr>\n",
              "    <tr>\n",
              "      <th>2</th>\n",
              "      <td>Q100325415</td>\n",
              "      <td>Phas_property</td>\n",
              "      <td>P1001</td>\n",
              "      <td>'Embassy of Belarus, Budapest'@en</td>\n",
              "      <td>'applies to jurisdiction'@en</td>\n",
              "    </tr>\n",
              "    <tr>\n",
              "      <th>3</th>\n",
              "      <td>Q1005422</td>\n",
              "      <td>Phas_property</td>\n",
              "      <td>P1001</td>\n",
              "      <td>'Federal Office of Bundeswehr Equipment, Infor...</td>\n",
              "      <td>'applies to jurisdiction'@en</td>\n",
              "    </tr>\n",
              "    <tr>\n",
              "      <th>4</th>\n",
              "      <td>Q1006360</td>\n",
              "      <td>Phas_property</td>\n",
              "      <td>P1001</td>\n",
              "      <td>'Bundesminister'@en</td>\n",
              "      <td>'applies to jurisdiction'@en</td>\n",
              "    </tr>\n",
              "    <tr>\n",
              "      <th>...</th>\n",
              "      <td>...</td>\n",
              "      <td>...</td>\n",
              "      <td>...</td>\n",
              "      <td>...</td>\n",
              "      <td>...</td>\n",
              "    </tr>\n",
              "    <tr>\n",
              "      <th>806344</th>\n",
              "      <td>Q7020999</td>\n",
              "      <td>Phas_property</td>\n",
              "      <td>P991</td>\n",
              "      <td>'2017 French presidential election'@en</td>\n",
              "      <td>'successful candidate'@en</td>\n",
              "    </tr>\n",
              "    <tr>\n",
              "      <th>806345</th>\n",
              "      <td>Q72251</td>\n",
              "      <td>Phas_property</td>\n",
              "      <td>P991</td>\n",
              "      <td>'1876 United States presidential election'@en</td>\n",
              "      <td>'successful candidate'@en</td>\n",
              "    </tr>\n",
              "    <tr>\n",
              "      <th>806346</th>\n",
              "      <td>Q72472</td>\n",
              "      <td>Phas_property</td>\n",
              "      <td>P991</td>\n",
              "      <td>'1892 United States presidential election'@en</td>\n",
              "      <td>'successful candidate'@en</td>\n",
              "    </tr>\n",
              "    <tr>\n",
              "      <th>806347</th>\n",
              "      <td>Q72835</td>\n",
              "      <td>Phas_property</td>\n",
              "      <td>P991</td>\n",
              "      <td>'1908 United States presidential election'@en</td>\n",
              "      <td>'successful candidate'@en</td>\n",
              "    </tr>\n",
              "    <tr>\n",
              "      <th>806348</th>\n",
              "      <td>P991-P1855-Q327959-2d857cd2-0</td>\n",
              "      <td>Phas_property</td>\n",
              "      <td>P991</td>\n",
              "      <td>NaN</td>\n",
              "      <td>'successful candidate'@en</td>\n",
              "    </tr>\n",
              "  </tbody>\n",
              "</table>\n",
              "<p>806349 rows × 5 columns</p>\n",
              "</div>"
            ],
            "text/plain": [
              "                                node1  ...                   node2;label\n",
              "0                               P8874  ...  'applies to jurisdiction'@en\n",
              "1                            Q1001543  ...  'applies to jurisdiction'@en\n",
              "2                          Q100325415  ...  'applies to jurisdiction'@en\n",
              "3                            Q1005422  ...  'applies to jurisdiction'@en\n",
              "4                            Q1006360  ...  'applies to jurisdiction'@en\n",
              "...                               ...  ...                           ...\n",
              "806344                       Q7020999  ...     'successful candidate'@en\n",
              "806345                         Q72251  ...     'successful candidate'@en\n",
              "806346                         Q72472  ...     'successful candidate'@en\n",
              "806347                         Q72835  ...     'successful candidate'@en\n",
              "806348  P991-P1855-Q327959-2d857cd2-0  ...     'successful candidate'@en\n",
              "\n",
              "[806349 rows x 5 columns]"
            ]
          },
          "metadata": {},
          "execution_count": 32
        }
      ]
    },
    {
      "cell_type": "markdown",
      "metadata": {
        "id": "9GFQRmzMT4Z6"
      },
      "source": [
        "The results look good, so we add the identifiers to the edges and store the results in `item_properties.tsv`."
      ]
    },
    {
      "cell_type": "code",
      "metadata": {
        "id": "3UBuiA3BT4Z6",
        "colab": {
          "base_uri": "https://localhost:8080/"
        },
        "outputId": "f7298778-9d9e-4547-ac5d-72168af0765c"
      },
      "source": [
        "%%time\n",
        "kgtk(\"\"\"\n",
        "    query -i all\n",
        "        --match '\n",
        "            (property)-[:datatype]->(datatype), \n",
        "            (entity)-[l {label: property}]->()'\n",
        "        --where 'datatype != \"external-id\"' \n",
        "        --return 'distinct entity as node1, \"Phas_property\" as label, property as node2'\n",
        "    / add-id --id-style wikidata\n",
        "    -o $TEMP/item_properties.tsv\n",
        "\"\"\")"
      ],
      "execution_count": null,
      "outputs": [
        {
          "output_type": "stream",
          "name": "stdout",
          "text": [
            "CPU times: user 88.4 ms, sys: 33.8 ms, total: 122 ms\n",
            "Wall time: 12.4 s\n"
          ]
        }
      ]
    },
    {
      "cell_type": "markdown",
      "metadata": {
        "id": "R5gCWwMwT4Z6"
      },
      "source": [
        "In the second step, we use `P279star` to get all the superclasses of each entity, and then look up the entity in the `item_properties` graph to find the properties it uses.\n",
        "We invent a new property called `P1963computed` to store the counts. Wikidata has a property `properties for this type (P1963)` where editors can manually specify the properties that should be used to describe the instance of a class. We are computing the properties bottom up from the data, so we call the property `P1963computed`.\n",
        "\n",
        "In the return clause, we list `superclass`, and the value of the `property` variable ahead of the `count` clause to tell KGTK that we want to aggregate by superclass and property. We reuse the Wikidata `quantity (P1114)` to record the counts:\n",
        "\n",
        "> This query is very expensive to run on the full Wikidata as it touches every entity in Wikidata, but it will complete after many hours."
      ]
    },
    {
      "cell_type": "code",
      "metadata": {
        "id": "mS97jB8NT4Z6",
        "colab": {
          "base_uri": "https://localhost:8080/",
          "height": 458
        },
        "outputId": "6fe97f11-f141-4d0f-eaff-d297b434d2c1"
      },
      "source": [
        "%%time\n",
        "kgtk(\"\"\"\n",
        "    query -i all -i p31x -i $TEMP/item_properties.tsv\n",
        "        --match ' \n",
        "            p31x: (entity)-[]->(class), \n",
        "            all: (class)-[:P279star]->(superclass),\n",
        "            item_properties: (entity)-[l]->(property)'\n",
        "        --return 'distinct superclass as node1, \"P1963computed\" as label, property as node2, count(distinct l) as P1114' \\\n",
        "        --order-by 'cast(P1114, int) desc'\n",
        "        --limit 100\n",
        "    / add-labels\n",
        "\"\"\")"
      ],
      "execution_count": null,
      "outputs": [
        {
          "output_type": "stream",
          "name": "stdout",
          "text": [
            "CPU times: user 714 ms, sys: 117 ms, total: 831 ms\n",
            "Wall time: 1min 43s\n"
          ]
        },
        {
          "output_type": "execute_result",
          "data": {
            "text/html": [
              "<div>\n",
              "<style scoped>\n",
              "    .dataframe tbody tr th:only-of-type {\n",
              "        vertical-align: middle;\n",
              "    }\n",
              "\n",
              "    .dataframe tbody tr th {\n",
              "        vertical-align: top;\n",
              "    }\n",
              "\n",
              "    .dataframe thead th {\n",
              "        text-align: right;\n",
              "    }\n",
              "</style>\n",
              "<table border=\"1\" class=\"dataframe\">\n",
              "  <thead>\n",
              "    <tr style=\"text-align: right;\">\n",
              "      <th></th>\n",
              "      <th>node1</th>\n",
              "      <th>label</th>\n",
              "      <th>node2</th>\n",
              "      <th>P1114</th>\n",
              "      <th>node1;label</th>\n",
              "      <th>node2;label</th>\n",
              "    </tr>\n",
              "  </thead>\n",
              "  <tbody>\n",
              "    <tr>\n",
              "      <th>0</th>\n",
              "      <td>Q35120</td>\n",
              "      <td>P1963computed</td>\n",
              "      <td>P31</td>\n",
              "      <td>57569</td>\n",
              "      <td>'entity'@en</td>\n",
              "      <td>'instance of'@en</td>\n",
              "    </tr>\n",
              "    <tr>\n",
              "      <th>1</th>\n",
              "      <td>Q99527517</td>\n",
              "      <td>P1963computed</td>\n",
              "      <td>P31</td>\n",
              "      <td>37766</td>\n",
              "      <td>'collection entity'@en</td>\n",
              "      <td>'instance of'@en</td>\n",
              "    </tr>\n",
              "    <tr>\n",
              "      <th>2</th>\n",
              "      <td>Q28813620</td>\n",
              "      <td>P1963computed</td>\n",
              "      <td>P31</td>\n",
              "      <td>34979</td>\n",
              "      <td>'set'@en</td>\n",
              "      <td>'instance of'@en</td>\n",
              "    </tr>\n",
              "    <tr>\n",
              "      <th>3</th>\n",
              "      <td>Q16887380</td>\n",
              "      <td>P1963computed</td>\n",
              "      <td>P31</td>\n",
              "      <td>34958</td>\n",
              "      <td>'group'@en</td>\n",
              "      <td>'instance of'@en</td>\n",
              "    </tr>\n",
              "    <tr>\n",
              "      <th>4</th>\n",
              "      <td>Q58415929</td>\n",
              "      <td>P1963computed</td>\n",
              "      <td>P31</td>\n",
              "      <td>32566</td>\n",
              "      <td>'spatio-temporal entity'@en</td>\n",
              "      <td>'instance of'@en</td>\n",
              "    </tr>\n",
              "    <tr>\n",
              "      <th>...</th>\n",
              "      <td>...</td>\n",
              "      <td>...</td>\n",
              "      <td>...</td>\n",
              "      <td>...</td>\n",
              "      <td>...</td>\n",
              "      <td>...</td>\n",
              "    </tr>\n",
              "    <tr>\n",
              "      <th>95</th>\n",
              "      <td>Q56061</td>\n",
              "      <td>P1963computed</td>\n",
              "      <td>P31</td>\n",
              "      <td>10533</td>\n",
              "      <td>'administrative territorial entity'@en</td>\n",
              "      <td>'instance of'@en</td>\n",
              "    </tr>\n",
              "    <tr>\n",
              "      <th>96</th>\n",
              "      <td>Q488383</td>\n",
              "      <td>P1963computed</td>\n",
              "      <td>P373</td>\n",
              "      <td>10514</td>\n",
              "      <td>'object'@en</td>\n",
              "      <td>'Commons category'@en</td>\n",
              "    </tr>\n",
              "    <tr>\n",
              "      <th>97</th>\n",
              "      <td>Q4406616</td>\n",
              "      <td>P1963computed</td>\n",
              "      <td>P17</td>\n",
              "      <td>10452</td>\n",
              "      <td>'concrete object'@en</td>\n",
              "      <td>'country'@en</td>\n",
              "    </tr>\n",
              "    <tr>\n",
              "      <th>98</th>\n",
              "      <td>Q58416391</td>\n",
              "      <td>P1963computed</td>\n",
              "      <td>P571</td>\n",
              "      <td>10288</td>\n",
              "      <td>'spatial entity'@en</td>\n",
              "      <td>'inception'@en</td>\n",
              "    </tr>\n",
              "    <tr>\n",
              "      <th>99</th>\n",
              "      <td>Q27096213</td>\n",
              "      <td>P1963computed</td>\n",
              "      <td>P571</td>\n",
              "      <td>10287</td>\n",
              "      <td>'geographic entity'@en</td>\n",
              "      <td>'inception'@en</td>\n",
              "    </tr>\n",
              "  </tbody>\n",
              "</table>\n",
              "<p>100 rows × 6 columns</p>\n",
              "</div>"
            ],
            "text/plain": [
              "        node1  ...            node2;label\n",
              "0      Q35120  ...       'instance of'@en\n",
              "1   Q99527517  ...       'instance of'@en\n",
              "2   Q28813620  ...       'instance of'@en\n",
              "3   Q16887380  ...       'instance of'@en\n",
              "4   Q58415929  ...       'instance of'@en\n",
              "..        ...  ...                    ...\n",
              "95     Q56061  ...       'instance of'@en\n",
              "96    Q488383  ...  'Commons category'@en\n",
              "97   Q4406616  ...           'country'@en\n",
              "98  Q58416391  ...         'inception'@en\n",
              "99  Q27096213  ...         'inception'@en\n",
              "\n",
              "[100 rows x 6 columns]"
            ]
          },
          "metadata": {},
          "execution_count": 34
        }
      ]
    },
    {
      "cell_type": "markdown",
      "metadata": {
        "id": "KowxVLJLT4Z6"
      },
      "source": [
        "The results look good, so we store them in `derived.P1963computed.tsv`"
      ]
    },
    {
      "cell_type": "code",
      "metadata": {
        "id": "Ldf7hVjnT4Z6",
        "colab": {
          "base_uri": "https://localhost:8080/"
        },
        "outputId": "a61eb6d8-2798-4cee-fb63-e1a8a9b71a44"
      },
      "source": [
        "%%time\n",
        "kgtk(\"\"\"\n",
        "    query -i all -i p31x -i $TEMP/item_properties.tsv\n",
        "        --match ' \n",
        "            p31x: (entity)-[]->(class), \n",
        "            all: (class)-[:P279star]->(superclass),\n",
        "            item_properties: (entity)-[l]->(property)'\n",
        "        --return 'distinct superclass as node1, \"P1963computed\" as label, property as node2, count(distinct l) as P1114' \n",
        "    / add-id --id-style wikidata\n",
        "    / normalize --add-id True\n",
        "    -o $OUT/derived.P1963computed.tsv\n",
        "\"\"\")"
      ],
      "execution_count": null,
      "outputs": [
        {
          "output_type": "stream",
          "name": "stdout",
          "text": [
            "CPU times: user 708 ms, sys: 118 ms, total: 826 ms\n",
            "Wall time: 1min 43s\n"
          ]
        }
      ]
    },
    {
      "cell_type": "markdown",
      "metadata": {
        "id": "qtNaaumrT4Z7"
      },
      "source": [
        "Add the new graph to the databse anbd define alias `p1963computed` for it."
      ]
    },
    {
      "cell_type": "code",
      "metadata": {
        "id": "0x_LQGkUT4Z7",
        "colab": {
          "base_uri": "https://localhost:8080/",
          "height": 363
        },
        "outputId": "ad7f83a4-f8d1-4b91-9266-74ef34f0146a"
      },
      "source": [
        "kgtk(\"\"\"\n",
        "    query -i $OUT/derived.P1963computed.tsv --as p1963computed --limit 10\n",
        "\"\"\")"
      ],
      "execution_count": null,
      "outputs": [
        {
          "output_type": "execute_result",
          "data": {
            "text/html": [
              "<div>\n",
              "<style scoped>\n",
              "    .dataframe tbody tr th:only-of-type {\n",
              "        vertical-align: middle;\n",
              "    }\n",
              "\n",
              "    .dataframe tbody tr th {\n",
              "        vertical-align: top;\n",
              "    }\n",
              "\n",
              "    .dataframe thead th {\n",
              "        text-align: right;\n",
              "    }\n",
              "</style>\n",
              "<table border=\"1\" class=\"dataframe\">\n",
              "  <thead>\n",
              "    <tr style=\"text-align: right;\">\n",
              "      <th></th>\n",
              "      <th>node1</th>\n",
              "      <th>label</th>\n",
              "      <th>node2</th>\n",
              "      <th>id</th>\n",
              "    </tr>\n",
              "  </thead>\n",
              "  <tbody>\n",
              "    <tr>\n",
              "      <th>0</th>\n",
              "      <td>Q100039327</td>\n",
              "      <td>P1963computed</td>\n",
              "      <td>P159</td>\n",
              "      <td>Q100039327-P1963computed-P159</td>\n",
              "    </tr>\n",
              "    <tr>\n",
              "      <th>1</th>\n",
              "      <td>Q100039327-P1963computed-P159</td>\n",
              "      <td>P1114</td>\n",
              "      <td>1</td>\n",
              "      <td>Q100039327-P1963computed-P159-P1114-1-0000</td>\n",
              "    </tr>\n",
              "    <tr>\n",
              "      <th>2</th>\n",
              "      <td>Q100039327</td>\n",
              "      <td>P1963computed</td>\n",
              "      <td>P17</td>\n",
              "      <td>Q100039327-P1963computed-P17</td>\n",
              "    </tr>\n",
              "    <tr>\n",
              "      <th>3</th>\n",
              "      <td>Q100039327-P1963computed-P17</td>\n",
              "      <td>P1114</td>\n",
              "      <td>1</td>\n",
              "      <td>Q100039327-P1963computed-P17-P1114-1-0000</td>\n",
              "    </tr>\n",
              "    <tr>\n",
              "      <th>4</th>\n",
              "      <td>Q100039327</td>\n",
              "      <td>P1963computed</td>\n",
              "      <td>P1813</td>\n",
              "      <td>Q100039327-P1963computed-P1813</td>\n",
              "    </tr>\n",
              "    <tr>\n",
              "      <th>5</th>\n",
              "      <td>Q100039327-P1963computed-P1813</td>\n",
              "      <td>P1114</td>\n",
              "      <td>1</td>\n",
              "      <td>Q100039327-P1963computed-P1813-P1114-1-0000</td>\n",
              "    </tr>\n",
              "    <tr>\n",
              "      <th>6</th>\n",
              "      <td>Q100039327</td>\n",
              "      <td>P1963computed</td>\n",
              "      <td>P31</td>\n",
              "      <td>Q100039327-P1963computed-P31</td>\n",
              "    </tr>\n",
              "    <tr>\n",
              "      <th>7</th>\n",
              "      <td>Q100039327-P1963computed-P31</td>\n",
              "      <td>P1114</td>\n",
              "      <td>1</td>\n",
              "      <td>Q100039327-P1963computed-P31-P1114-1-0000</td>\n",
              "    </tr>\n",
              "    <tr>\n",
              "      <th>8</th>\n",
              "      <td>Q100039327</td>\n",
              "      <td>P1963computed</td>\n",
              "      <td>P373</td>\n",
              "      <td>Q100039327-P1963computed-P373</td>\n",
              "    </tr>\n",
              "    <tr>\n",
              "      <th>9</th>\n",
              "      <td>Q100039327-P1963computed-P373</td>\n",
              "      <td>P1114</td>\n",
              "      <td>1</td>\n",
              "      <td>Q100039327-P1963computed-P373-P1114-1-0000</td>\n",
              "    </tr>\n",
              "  </tbody>\n",
              "</table>\n",
              "</div>"
            ],
            "text/plain": [
              "                            node1  ...                                           id\n",
              "0                      Q100039327  ...                Q100039327-P1963computed-P159\n",
              "1   Q100039327-P1963computed-P159  ...   Q100039327-P1963computed-P159-P1114-1-0000\n",
              "2                      Q100039327  ...                 Q100039327-P1963computed-P17\n",
              "3    Q100039327-P1963computed-P17  ...    Q100039327-P1963computed-P17-P1114-1-0000\n",
              "4                      Q100039327  ...               Q100039327-P1963computed-P1813\n",
              "5  Q100039327-P1963computed-P1813  ...  Q100039327-P1963computed-P1813-P1114-1-0000\n",
              "6                      Q100039327  ...                 Q100039327-P1963computed-P31\n",
              "7    Q100039327-P1963computed-P31  ...    Q100039327-P1963computed-P31-P1114-1-0000\n",
              "8                      Q100039327  ...                Q100039327-P1963computed-P373\n",
              "9   Q100039327-P1963computed-P373  ...   Q100039327-P1963computed-P373-P1114-1-0000\n",
              "\n",
              "[10 rows x 4 columns]"
            ]
          },
          "metadata": {},
          "execution_count": 36
        }
      ]
    },
    {
      "cell_type": "markdown",
      "metadata": {
        "id": "_G8wEmulT4Z7"
      },
      "source": [
        "Let' see the distribution of properties for `film (Q11424)`:\n",
        "> You can try it for `film director (Q2526255)` or `entity (Q35120)`, which gives you the distribution of all properties in the KG:"
      ]
    },
    {
      "cell_type": "code",
      "metadata": {
        "id": "Y3zYgTOOT4Z7",
        "colab": {
          "base_uri": "https://localhost:8080/",
          "height": 458
        },
        "outputId": "86271f82-e0ef-4e34-e92f-a3e1e2824117"
      },
      "source": [
        "%%time\n",
        "kgtk(\"\"\"\n",
        "    query -i p1963computed\n",
        "        --match '\n",
        "            (class:Q11424)-[l:P1963computed]->(property),\n",
        "            (l)-[:P1114]->(quantity)'\n",
        "        --return 'distinct class as class, property as property, quantity as count'\n",
        "        --order-by 'cast(count, int) desc'\n",
        "    / add-labels\n",
        "\"\"\")"
      ],
      "execution_count": null,
      "outputs": [
        {
          "output_type": "stream",
          "name": "stdout",
          "text": [
            "CPU times: user 43.5 ms, sys: 18.9 ms, total: 62.5 ms\n",
            "Wall time: 4.17 s\n"
          ]
        },
        {
          "output_type": "execute_result",
          "data": {
            "text/html": [
              "<div>\n",
              "<style scoped>\n",
              "    .dataframe tbody tr th:only-of-type {\n",
              "        vertical-align: middle;\n",
              "    }\n",
              "\n",
              "    .dataframe tbody tr th {\n",
              "        vertical-align: top;\n",
              "    }\n",
              "\n",
              "    .dataframe thead th {\n",
              "        text-align: right;\n",
              "    }\n",
              "</style>\n",
              "<table border=\"1\" class=\"dataframe\">\n",
              "  <thead>\n",
              "    <tr style=\"text-align: right;\">\n",
              "      <th></th>\n",
              "      <th>class</th>\n",
              "      <th>property</th>\n",
              "      <th>count</th>\n",
              "      <th>class;label</th>\n",
              "      <th>property;label</th>\n",
              "    </tr>\n",
              "  </thead>\n",
              "  <tbody>\n",
              "    <tr>\n",
              "      <th>0</th>\n",
              "      <td>Q11424</td>\n",
              "      <td>P31</td>\n",
              "      <td>2447</td>\n",
              "      <td>'film'@en</td>\n",
              "      <td>'instance of'@en</td>\n",
              "    </tr>\n",
              "    <tr>\n",
              "      <th>1</th>\n",
              "      <td>Q11424</td>\n",
              "      <td>P577</td>\n",
              "      <td>1402</td>\n",
              "      <td>'film'@en</td>\n",
              "      <td>'publication date'@en</td>\n",
              "    </tr>\n",
              "    <tr>\n",
              "      <th>2</th>\n",
              "      <td>Q11424</td>\n",
              "      <td>P495</td>\n",
              "      <td>1398</td>\n",
              "      <td>'film'@en</td>\n",
              "      <td>'country of origin'@en</td>\n",
              "    </tr>\n",
              "    <tr>\n",
              "      <th>3</th>\n",
              "      <td>Q11424</td>\n",
              "      <td>P1476</td>\n",
              "      <td>1381</td>\n",
              "      <td>'film'@en</td>\n",
              "      <td>'title'@en</td>\n",
              "    </tr>\n",
              "    <tr>\n",
              "      <th>4</th>\n",
              "      <td>Q11424</td>\n",
              "      <td>P364</td>\n",
              "      <td>1368</td>\n",
              "      <td>'film'@en</td>\n",
              "      <td>'original language of film or TV show'@en</td>\n",
              "    </tr>\n",
              "    <tr>\n",
              "      <th>...</th>\n",
              "      <td>...</td>\n",
              "      <td>...</td>\n",
              "      <td>...</td>\n",
              "      <td>...</td>\n",
              "      <td>...</td>\n",
              "    </tr>\n",
              "    <tr>\n",
              "      <th>91</th>\n",
              "      <td>Q11424</td>\n",
              "      <td>P6251</td>\n",
              "      <td>1</td>\n",
              "      <td>'film'@en</td>\n",
              "      <td>'catchphrase'@en</td>\n",
              "    </tr>\n",
              "    <tr>\n",
              "      <th>92</th>\n",
              "      <td>Q11424</td>\n",
              "      <td>P641</td>\n",
              "      <td>1</td>\n",
              "      <td>'film'@en</td>\n",
              "      <td>'sport'@en</td>\n",
              "    </tr>\n",
              "    <tr>\n",
              "      <th>93</th>\n",
              "      <td>Q11424</td>\n",
              "      <td>P767</td>\n",
              "      <td>1</td>\n",
              "      <td>'film'@en</td>\n",
              "      <td>'contributor to the creative work or subject'@en</td>\n",
              "    </tr>\n",
              "    <tr>\n",
              "      <th>94</th>\n",
              "      <td>Q11424</td>\n",
              "      <td>P8411</td>\n",
              "      <td>1</td>\n",
              "      <td>'film'@en</td>\n",
              "      <td>'set in environment'@en</td>\n",
              "    </tr>\n",
              "    <tr>\n",
              "      <th>95</th>\n",
              "      <td>Q11424</td>\n",
              "      <td>P941</td>\n",
              "      <td>1</td>\n",
              "      <td>'film'@en</td>\n",
              "      <td>'inspired by'@en</td>\n",
              "    </tr>\n",
              "  </tbody>\n",
              "</table>\n",
              "<p>96 rows × 5 columns</p>\n",
              "</div>"
            ],
            "text/plain": [
              "     class  ...                                    property;label\n",
              "0   Q11424  ...                                  'instance of'@en\n",
              "1   Q11424  ...                             'publication date'@en\n",
              "2   Q11424  ...                            'country of origin'@en\n",
              "3   Q11424  ...                                        'title'@en\n",
              "4   Q11424  ...         'original language of film or TV show'@en\n",
              "..     ...  ...                                               ...\n",
              "91  Q11424  ...                                  'catchphrase'@en\n",
              "92  Q11424  ...                                        'sport'@en\n",
              "93  Q11424  ...  'contributor to the creative work or subject'@en\n",
              "94  Q11424  ...                           'set in environment'@en\n",
              "95  Q11424  ...                                  'inspired by'@en\n",
              "\n",
              "[96 rows x 5 columns]"
            ]
          },
          "metadata": {},
          "execution_count": 37
        }
      ]
    },
    {
      "cell_type": "markdown",
      "metadata": {
        "id": "mJEnrNnUT4Z7"
      },
      "source": [
        "Store the resulting graph in `derived.Pproperty_domain.tsv` and define the alias `property_domain` for it in the database:"
      ]
    },
    {
      "cell_type": "code",
      "metadata": {
        "id": "uZeeyZG6T4Z7",
        "colab": {
          "base_uri": "https://localhost:8080/"
        },
        "outputId": "703f1028-b822-4e2a-ab88-e801b65058f9"
      },
      "source": [
        "%%time\n",
        "kgtk(\"\"\"\n",
        "    query -i p1963computed\n",
        "        --match '\n",
        "            (class)-[l:P1963computed]->(property),\n",
        "            (l)-[:P1114]->(quantity)'\n",
        "        --return 'distinct property as node1, \"Pproperty_domain\" as label, class as node2, quantity as P1114'\n",
        "        --order-by 'property, cast(P1114, int) desc'\n",
        "    / add-id --id-style wikidata\n",
        "    / normalize --add-id True\n",
        "    -o $OUT/derived.Pproperty_domain.tsv\n",
        "\"\"\")\n",
        "\n",
        "kgtk(\"query -i $OUT/derived.Pproperty_domain.tsv --as property_domain --limit 10\")"
      ],
      "execution_count": null,
      "outputs": [
        {
          "output_type": "stream",
          "name": "stdout",
          "text": [
            "CPU times: user 90 ms, sys: 44 ms, total: 134 ms\n",
            "Wall time: 12.3 s\n"
          ]
        }
      ]
    },
    {
      "cell_type": "markdown",
      "metadata": {
        "id": "ovKxTUq_T4Z8"
      },
      "source": [
        "Let's see the distribution of classes for `cast member(P161)`. We restrict the results to be subclasses of `visual artwork (Q4502142)` because otherwise the results contain too many of the abstract classes. We see that property `cast member(P161)` is defined for film and subclasses of film:"
      ]
    },
    {
      "cell_type": "code",
      "metadata": {
        "id": "QuKRadnvT4Z8",
        "colab": {
          "base_uri": "https://localhost:8080/",
          "height": 363
        },
        "outputId": "271ce78d-e41e-4fb3-c3dc-55d2eee98257"
      },
      "source": [
        "kgtk(\"\"\"\n",
        "    query -i property_domain -i all\n",
        "        --match '\n",
        "            all: (class)-[:P279star]->(:Q4502142), \n",
        "            property_domain: (property:P161)-[l:Pproperty_domain]->(class),\n",
        "            property_domain: (l)-[:P1114]->(quantity)'\n",
        "        --return 'distinct property as node1, \"Pproperty_domain\" as label, class as node2, quantity as P1114'\n",
        "        --order-by 'property, cast(P1114, int) desc'\n",
        "        --limit 10\n",
        "    / add-labels\n",
        "\"\"\")"
      ],
      "execution_count": null,
      "outputs": [
        {
          "output_type": "execute_result",
          "data": {
            "text/html": [
              "<div>\n",
              "<style scoped>\n",
              "    .dataframe tbody tr th:only-of-type {\n",
              "        vertical-align: middle;\n",
              "    }\n",
              "\n",
              "    .dataframe tbody tr th {\n",
              "        vertical-align: top;\n",
              "    }\n",
              "\n",
              "    .dataframe thead th {\n",
              "        text-align: right;\n",
              "    }\n",
              "</style>\n",
              "<table border=\"1\" class=\"dataframe\">\n",
              "  <thead>\n",
              "    <tr style=\"text-align: right;\">\n",
              "      <th></th>\n",
              "      <th>node1</th>\n",
              "      <th>label</th>\n",
              "      <th>node2</th>\n",
              "      <th>P1114</th>\n",
              "      <th>node1;label</th>\n",
              "      <th>node2;label</th>\n",
              "    </tr>\n",
              "  </thead>\n",
              "  <tbody>\n",
              "    <tr>\n",
              "      <th>0</th>\n",
              "      <td>P161</td>\n",
              "      <td>Pproperty_domain</td>\n",
              "      <td>Q11424</td>\n",
              "      <td>1133</td>\n",
              "      <td>'cast member'@en</td>\n",
              "      <td>'film'@en</td>\n",
              "    </tr>\n",
              "    <tr>\n",
              "      <th>1</th>\n",
              "      <td>P161</td>\n",
              "      <td>Pproperty_domain</td>\n",
              "      <td>Q4502142</td>\n",
              "      <td>1133</td>\n",
              "      <td>'cast member'@en</td>\n",
              "      <td>'visual artwork'@en</td>\n",
              "    </tr>\n",
              "    <tr>\n",
              "      <th>2</th>\n",
              "      <td>P161</td>\n",
              "      <td>Pproperty_domain</td>\n",
              "      <td>Q24869</td>\n",
              "      <td>38</td>\n",
              "      <td>'cast member'@en</td>\n",
              "      <td>'feature film'@en</td>\n",
              "    </tr>\n",
              "    <tr>\n",
              "      <th>3</th>\n",
              "      <td>P161</td>\n",
              "      <td>Pproperty_domain</td>\n",
              "      <td>Q229390</td>\n",
              "      <td>36</td>\n",
              "      <td>'cast member'@en</td>\n",
              "      <td>'3D film'@en</td>\n",
              "    </tr>\n",
              "    <tr>\n",
              "      <th>4</th>\n",
              "      <td>P161</td>\n",
              "      <td>Pproperty_domain</td>\n",
              "      <td>Q506240</td>\n",
              "      <td>17</td>\n",
              "      <td>'cast member'@en</td>\n",
              "      <td>'television film'@en</td>\n",
              "    </tr>\n",
              "    <tr>\n",
              "      <th>5</th>\n",
              "      <td>P161</td>\n",
              "      <td>Pproperty_domain</td>\n",
              "      <td>Q61283808</td>\n",
              "      <td>8</td>\n",
              "      <td>'cast member'@en</td>\n",
              "      <td>'Star Trek film'@en</td>\n",
              "    </tr>\n",
              "    <tr>\n",
              "      <th>6</th>\n",
              "      <td>P161</td>\n",
              "      <td>Pproperty_domain</td>\n",
              "      <td>Q202866</td>\n",
              "      <td>5</td>\n",
              "      <td>'cast member'@en</td>\n",
              "      <td>'animated film'@en</td>\n",
              "    </tr>\n",
              "    <tr>\n",
              "      <th>7</th>\n",
              "      <td>P161</td>\n",
              "      <td>Pproperty_domain</td>\n",
              "      <td>Q25110269</td>\n",
              "      <td>5</td>\n",
              "      <td>'cast member'@en</td>\n",
              "      <td>'live-action animated film'@en</td>\n",
              "    </tr>\n",
              "    <tr>\n",
              "      <th>8</th>\n",
              "      <td>P161</td>\n",
              "      <td>Pproperty_domain</td>\n",
              "      <td>Q517386</td>\n",
              "      <td>5</td>\n",
              "      <td>'cast member'@en</td>\n",
              "      <td>'live action'@en</td>\n",
              "    </tr>\n",
              "    <tr>\n",
              "      <th>9</th>\n",
              "      <td>P161</td>\n",
              "      <td>Pproperty_domain</td>\n",
              "      <td>Q24862</td>\n",
              "      <td>4</td>\n",
              "      <td>'cast member'@en</td>\n",
              "      <td>'short film'@en</td>\n",
              "    </tr>\n",
              "  </tbody>\n",
              "</table>\n",
              "</div>"
            ],
            "text/plain": [
              "  node1             label  ...       node1;label                     node2;label\n",
              "0  P161  Pproperty_domain  ...  'cast member'@en                       'film'@en\n",
              "1  P161  Pproperty_domain  ...  'cast member'@en             'visual artwork'@en\n",
              "2  P161  Pproperty_domain  ...  'cast member'@en               'feature film'@en\n",
              "3  P161  Pproperty_domain  ...  'cast member'@en                    '3D film'@en\n",
              "4  P161  Pproperty_domain  ...  'cast member'@en            'television film'@en\n",
              "5  P161  Pproperty_domain  ...  'cast member'@en             'Star Trek film'@en\n",
              "6  P161  Pproperty_domain  ...  'cast member'@en              'animated film'@en\n",
              "7  P161  Pproperty_domain  ...  'cast member'@en  'live-action animated film'@en\n",
              "8  P161  Pproperty_domain  ...  'cast member'@en                'live action'@en\n",
              "9  P161  Pproperty_domain  ...  'cast member'@en                 'short film'@en\n",
              "\n",
              "[10 rows x 6 columns]"
            ]
          },
          "metadata": {},
          "execution_count": 39
        }
      ]
    },
    {
      "cell_type": "markdown",
      "metadata": {
        "jp-MarkdownHeadingCollapsed": true,
        "tags": [],
        "id": "ft2DRHi-T4Z8"
      },
      "source": [
        "### Summary of this section\n",
        "In this section we:\n",
        "- Computed  `P1963computed`, to record the frequence of the use of properties in every class.\n",
        "- Used `P1963computed` to see the distribution of properties for a few classes.\n",
        "- Illustrated the ability to break down very expensive queries into simpler steps.\n",
        "- Illustrated a KGTK feature that allows you to use the results of one query as a new graph (`$TEMP/item_properties.tsv`) that can be integrated into other queries."
      ]
    },
    {
      "cell_type": "markdown",
      "metadata": {
        "id": "rJoxDX6NT4Z8"
      },
      "source": [
        "## Compute the distribution of units for quantity properties\n",
        "This part of the tutorial illustrates how to work with KGTK structured literals:\n",
        "- quantities: composed of a numeric value followed by the identifier of a unit, quantities can also define tolerances\n",
        "- dates and times: composed of an ISO-formatted date, followed by a numeric precision indicator, and sometimes by a calendar\n",
        "- monolingual strings: composed of a unicode string followed by a language tag\n",
        "\n",
        "Additional documentation on the KGTK file format is in https://kgtk.readthedocs.io/en/latest/specification/\n",
        "and documentation for the functions to operate on structured literals within queries is in https://kgtk.readthedocs.io/en/latest/transform/query/\n",
        "\n",
        "Below is a specific example of how to query the units in structured literals. THe objective in the example is to compute a distribution of the units used in all properties that store quantities.\n",
        "The query uses the `quantity` graph, which contains all properties whose values are quantities. \n",
        "\n",
        "The results of the query are interesting as we see some inconsistencies in the data present in our small subset of Wikidata. \n",
        "For example, most instances of `population (P1082)` have no units `point in time (Q186408)`, one has unit `Habitants (Q15621516)`, neither of which are units of `unit of measurement (Q47574)`"
      ]
    },
    {
      "cell_type": "code",
      "metadata": {
        "id": "ckoXE1K2T4Z8",
        "colab": {
          "base_uri": "https://localhost:8080/",
          "height": 424
        },
        "outputId": "a35c52a6-ad9e-4a2c-c40b-f87bbd87b4d4"
      },
      "source": [
        "kgtk(\"\"\"\n",
        "    query -i quantity\n",
        "        --match '(n1)-[l {label: property}]->(quantity)'\n",
        "        --return 'distinct property as node1, \"Pproperty_units_used\" as label, kgtk_quantity_wd_units(quantity) as node2, count(distinct l) as P1114'\n",
        "        --order-by 'property, cast(P1114, int) desc'\n",
        "    / add-labels\n",
        "\"\"\")"
      ],
      "execution_count": null,
      "outputs": [
        {
          "output_type": "execute_result",
          "data": {
            "text/html": [
              "<div>\n",
              "<style scoped>\n",
              "    .dataframe tbody tr th:only-of-type {\n",
              "        vertical-align: middle;\n",
              "    }\n",
              "\n",
              "    .dataframe tbody tr th {\n",
              "        vertical-align: top;\n",
              "    }\n",
              "\n",
              "    .dataframe thead th {\n",
              "        text-align: right;\n",
              "    }\n",
              "</style>\n",
              "<table border=\"1\" class=\"dataframe\">\n",
              "  <thead>\n",
              "    <tr style=\"text-align: right;\">\n",
              "      <th></th>\n",
              "      <th>node1</th>\n",
              "      <th>label</th>\n",
              "      <th>node2</th>\n",
              "      <th>P1114</th>\n",
              "      <th>node1;label</th>\n",
              "      <th>node2;label</th>\n",
              "    </tr>\n",
              "  </thead>\n",
              "  <tbody>\n",
              "    <tr>\n",
              "      <th>0</th>\n",
              "      <td>P1081</td>\n",
              "      <td>Pproperty_units_used</td>\n",
              "      <td>NaN</td>\n",
              "      <td>6810</td>\n",
              "      <td>'Human Development Index'@en</td>\n",
              "      <td>NaN</td>\n",
              "    </tr>\n",
              "    <tr>\n",
              "      <th>1</th>\n",
              "      <td>P1082</td>\n",
              "      <td>Pproperty_units_used</td>\n",
              "      <td>NaN</td>\n",
              "      <td>46643</td>\n",
              "      <td>'population'@en</td>\n",
              "      <td>NaN</td>\n",
              "    </tr>\n",
              "    <tr>\n",
              "      <th>2</th>\n",
              "      <td>P1082</td>\n",
              "      <td>Pproperty_units_used</td>\n",
              "      <td>Q186408</td>\n",
              "      <td>2</td>\n",
              "      <td>'population'@en</td>\n",
              "      <td>'point in time'@en</td>\n",
              "    </tr>\n",
              "    <tr>\n",
              "      <th>3</th>\n",
              "      <td>P1082</td>\n",
              "      <td>Pproperty_units_used</td>\n",
              "      <td>Q15621516</td>\n",
              "      <td>1</td>\n",
              "      <td>'population'@en</td>\n",
              "      <td>'Habitants'@en</td>\n",
              "    </tr>\n",
              "    <tr>\n",
              "      <th>4</th>\n",
              "      <td>P1082</td>\n",
              "      <td>Pproperty_units_used</td>\n",
              "      <td>Q5727902</td>\n",
              "      <td>1</td>\n",
              "      <td>'population'@en</td>\n",
              "      <td>'circa'@en</td>\n",
              "    </tr>\n",
              "    <tr>\n",
              "      <th>...</th>\n",
              "      <td>...</td>\n",
              "      <td>...</td>\n",
              "      <td>...</td>\n",
              "      <td>...</td>\n",
              "      <td>...</td>\n",
              "      <td>...</td>\n",
              "    </tr>\n",
              "    <tr>\n",
              "      <th>418</th>\n",
              "      <td>P8476</td>\n",
              "      <td>Pproperty_units_used</td>\n",
              "      <td>NaN</td>\n",
              "      <td>992</td>\n",
              "      <td>'BTI Governance Index'@en</td>\n",
              "      <td>NaN</td>\n",
              "    </tr>\n",
              "    <tr>\n",
              "      <th>419</th>\n",
              "      <td>P8477</td>\n",
              "      <td>Pproperty_units_used</td>\n",
              "      <td>NaN</td>\n",
              "      <td>970</td>\n",
              "      <td>'BTI Status Index'@en</td>\n",
              "      <td>NaN</td>\n",
              "    </tr>\n",
              "    <tr>\n",
              "      <th>420</th>\n",
              "      <td>P8687</td>\n",
              "      <td>Pproperty_units_used</td>\n",
              "      <td>NaN</td>\n",
              "      <td>6469</td>\n",
              "      <td>'social media followers'@en</td>\n",
              "      <td>NaN</td>\n",
              "    </tr>\n",
              "    <tr>\n",
              "      <th>421</th>\n",
              "      <td>P8843</td>\n",
              "      <td>Pproperty_units_used</td>\n",
              "      <td>NaN</td>\n",
              "      <td>201</td>\n",
              "      <td>'poverty incidence'@en</td>\n",
              "      <td>NaN</td>\n",
              "    </tr>\n",
              "    <tr>\n",
              "      <th>422</th>\n",
              "      <td>P8887</td>\n",
              "      <td>Pproperty_units_used</td>\n",
              "      <td>Q712226</td>\n",
              "      <td>1</td>\n",
              "      <td>'water area'@en</td>\n",
              "      <td>'square kilometre'@en</td>\n",
              "    </tr>\n",
              "  </tbody>\n",
              "</table>\n",
              "<p>423 rows × 6 columns</p>\n",
              "</div>"
            ],
            "text/plain": [
              "     node1  ...            node2;label\n",
              "0    P1081  ...                    NaN\n",
              "1    P1082  ...                    NaN\n",
              "2    P1082  ...     'point in time'@en\n",
              "3    P1082  ...         'Habitants'@en\n",
              "4    P1082  ...             'circa'@en\n",
              "..     ...  ...                    ...\n",
              "418  P8476  ...                    NaN\n",
              "419  P8477  ...                    NaN\n",
              "420  P8687  ...                    NaN\n",
              "421  P8843  ...                    NaN\n",
              "422  P8887  ...  'square kilometre'@en\n",
              "\n",
              "[423 rows x 6 columns]"
            ]
          },
          "metadata": {},
          "execution_count": 40
        }
      ]
    },
    {
      "cell_type": "markdown",
      "metadata": {
        "id": "vVf1F0UDT4Z8"
      },
      "source": [
        "We will store the units graph in `derived.Pproperty_units_used.tsv`. The final query includes a `where` clause to filter out the NULL values."
      ]
    },
    {
      "cell_type": "code",
      "metadata": {
        "id": "pMnZh-GrT4Z9",
        "colab": {
          "base_uri": "https://localhost:8080/",
          "height": 363
        },
        "outputId": "c99bf0ba-67c7-4ecd-f9bb-d2603b2abb95"
      },
      "source": [
        "kgtk(\"\"\"\n",
        "    query -i quantity\n",
        "        --match '(n1)-[l {label: property}]->(quantity)'\n",
        "        --where 'kgtk_quantity_wd_units(quantity) IS NOT NULL'\n",
        "        --return 'distinct property as node1, \"Pproperty_units_used\" as label, kgtk_quantity_wd_units(quantity) as node2, count(distinct l) as P1114'\n",
        "        --order-by 'property, cast(P1114, int) desc'\n",
        "    / add-id --id-style wikidata\n",
        "    / normalize --add-id True\n",
        "    -o $OUT/derived.Pproperty_units_used.tsv\n",
        "\"\"\")\n",
        "\n",
        "kgtk(\"query -i $OUT/derived.Pproperty_units_used.tsv --as property_units_used --limit 10\")"
      ],
      "execution_count": null,
      "outputs": [
        {
          "output_type": "execute_result",
          "data": {
            "text/html": [
              "<div>\n",
              "<style scoped>\n",
              "    .dataframe tbody tr th:only-of-type {\n",
              "        vertical-align: middle;\n",
              "    }\n",
              "\n",
              "    .dataframe tbody tr th {\n",
              "        vertical-align: top;\n",
              "    }\n",
              "\n",
              "    .dataframe thead th {\n",
              "        text-align: right;\n",
              "    }\n",
              "</style>\n",
              "<table border=\"1\" class=\"dataframe\">\n",
              "  <thead>\n",
              "    <tr style=\"text-align: right;\">\n",
              "      <th></th>\n",
              "      <th>node1</th>\n",
              "      <th>label</th>\n",
              "      <th>node2</th>\n",
              "      <th>id</th>\n",
              "    </tr>\n",
              "  </thead>\n",
              "  <tbody>\n",
              "    <tr>\n",
              "      <th>0</th>\n",
              "      <td>P1082</td>\n",
              "      <td>Pproperty_units_used</td>\n",
              "      <td>Q186408</td>\n",
              "      <td>P1082-Pproperty_units_used-Q186408</td>\n",
              "    </tr>\n",
              "    <tr>\n",
              "      <th>1</th>\n",
              "      <td>P1082-Pproperty_units_used-Q186408</td>\n",
              "      <td>P1114</td>\n",
              "      <td>2</td>\n",
              "      <td>P1082-Pproperty_units_used-Q186408-P1114-2-0000</td>\n",
              "    </tr>\n",
              "    <tr>\n",
              "      <th>2</th>\n",
              "      <td>P1082</td>\n",
              "      <td>Pproperty_units_used</td>\n",
              "      <td>Q15621516</td>\n",
              "      <td>P1082-Pproperty_units_used-Q15621516</td>\n",
              "    </tr>\n",
              "    <tr>\n",
              "      <th>3</th>\n",
              "      <td>P1082-Pproperty_units_used-Q15621516</td>\n",
              "      <td>P1114</td>\n",
              "      <td>1</td>\n",
              "      <td>P1082-Pproperty_units_used-Q15621516-P1114-1-0000</td>\n",
              "    </tr>\n",
              "    <tr>\n",
              "      <th>4</th>\n",
              "      <td>P1082</td>\n",
              "      <td>Pproperty_units_used</td>\n",
              "      <td>Q5727902</td>\n",
              "      <td>P1082-Pproperty_units_used-Q5727902</td>\n",
              "    </tr>\n",
              "    <tr>\n",
              "      <th>5</th>\n",
              "      <td>P1082-Pproperty_units_used-Q5727902</td>\n",
              "      <td>P1114</td>\n",
              "      <td>1</td>\n",
              "      <td>P1082-Pproperty_units_used-Q5727902-P1114-1-0000</td>\n",
              "    </tr>\n",
              "    <tr>\n",
              "      <th>6</th>\n",
              "      <td>P1083</td>\n",
              "      <td>Pproperty_units_used</td>\n",
              "      <td>Q44666669</td>\n",
              "      <td>P1083-Pproperty_units_used-Q44666669</td>\n",
              "    </tr>\n",
              "    <tr>\n",
              "      <th>7</th>\n",
              "      <td>P1083-Pproperty_units_used-Q44666669</td>\n",
              "      <td>P1114</td>\n",
              "      <td>2</td>\n",
              "      <td>P1083-Pproperty_units_used-Q44666669-P1114-2-0000</td>\n",
              "    </tr>\n",
              "    <tr>\n",
              "      <th>8</th>\n",
              "      <td>P1083</td>\n",
              "      <td>Pproperty_units_used</td>\n",
              "      <td>Q42177</td>\n",
              "      <td>P1083-Pproperty_units_used-Q42177</td>\n",
              "    </tr>\n",
              "    <tr>\n",
              "      <th>9</th>\n",
              "      <td>P1083-Pproperty_units_used-Q42177</td>\n",
              "      <td>P1114</td>\n",
              "      <td>1</td>\n",
              "      <td>P1083-Pproperty_units_used-Q42177-P1114-1-0000</td>\n",
              "    </tr>\n",
              "  </tbody>\n",
              "</table>\n",
              "</div>"
            ],
            "text/plain": [
              "                                  node1  ...                                                 id\n",
              "0                                 P1082  ...                 P1082-Pproperty_units_used-Q186408\n",
              "1    P1082-Pproperty_units_used-Q186408  ...    P1082-Pproperty_units_used-Q186408-P1114-2-0000\n",
              "2                                 P1082  ...               P1082-Pproperty_units_used-Q15621516\n",
              "3  P1082-Pproperty_units_used-Q15621516  ...  P1082-Pproperty_units_used-Q15621516-P1114-1-0000\n",
              "4                                 P1082  ...                P1082-Pproperty_units_used-Q5727902\n",
              "5   P1082-Pproperty_units_used-Q5727902  ...   P1082-Pproperty_units_used-Q5727902-P1114-1-0000\n",
              "6                                 P1083  ...               P1083-Pproperty_units_used-Q44666669\n",
              "7  P1083-Pproperty_units_used-Q44666669  ...  P1083-Pproperty_units_used-Q44666669-P1114-2-0000\n",
              "8                                 P1083  ...                  P1083-Pproperty_units_used-Q42177\n",
              "9     P1083-Pproperty_units_used-Q42177  ...     P1083-Pproperty_units_used-Q42177-P1114-1-0000\n",
              "\n",
              "[10 rows x 4 columns]"
            ]
          },
          "metadata": {},
          "execution_count": 41
        }
      ]
    },
    {
      "cell_type": "markdown",
      "metadata": {
        "id": "Q9-S6i56T4Z9"
      },
      "source": [
        "### Summary of this section\n",
        "In this section we:\n",
        "- Computed the distribution of the units used for properties that store quantities\n",
        "- Found examples of inappropriate use of units of measure in Wikidata\n",
        "- Illustrated how to use functions in `query` to extract elements from structured literals"
      ]
    },
    {
      "cell_type": "markdown",
      "metadata": {
        "id": "V8-vcaYmT4Z9"
      },
      "source": [
        "## Compute the number of awards by sex or gender of the receiver"
      ]
    },
    {
      "cell_type": "markdown",
      "metadata": {
        "id": "eKnDUi--T4Z9"
      },
      "source": [
        "First, get a distirbution of the `sex or gender (P21)` of people in our graph.\n",
        "The distribution is skewed, perhaps because it is skewed in Wikidata or a result of how the tutorial graph was constructed."
      ]
    },
    {
      "cell_type": "code",
      "metadata": {
        "id": "UWt7ohDGT4Z9",
        "colab": {
          "base_uri": "https://localhost:8080/",
          "height": 112
        },
        "outputId": "8a828b4e-ee61-4ef3-f337-da320e76e25a"
      },
      "source": [
        "kgtk(\"\"\"\n",
        "    query -i all\n",
        "        --match '\n",
        "            (person)-[:P31]->(:Q5),\n",
        "            (person)-[:P21]->(sex_or_gender)'\n",
        "        --return 'distinct sex_or_gender as sex_or_gender, count(distinct person) as count'\n",
        "    / add-labels\n",
        "\"\"\")"
      ],
      "execution_count": null,
      "outputs": [
        {
          "output_type": "execute_result",
          "data": {
            "text/html": [
              "<div>\n",
              "<style scoped>\n",
              "    .dataframe tbody tr th:only-of-type {\n",
              "        vertical-align: middle;\n",
              "    }\n",
              "\n",
              "    .dataframe tbody tr th {\n",
              "        vertical-align: top;\n",
              "    }\n",
              "\n",
              "    .dataframe thead th {\n",
              "        text-align: right;\n",
              "    }\n",
              "</style>\n",
              "<table border=\"1\" class=\"dataframe\">\n",
              "  <thead>\n",
              "    <tr style=\"text-align: right;\">\n",
              "      <th></th>\n",
              "      <th>sex_or_gender</th>\n",
              "      <th>count</th>\n",
              "      <th>sex_or_gender;label</th>\n",
              "    </tr>\n",
              "  </thead>\n",
              "  <tbody>\n",
              "    <tr>\n",
              "      <th>0</th>\n",
              "      <td>Q6581072</td>\n",
              "      <td>1783</td>\n",
              "      <td>'female'@en</td>\n",
              "    </tr>\n",
              "    <tr>\n",
              "      <th>1</th>\n",
              "      <td>Q6581097</td>\n",
              "      <td>8111</td>\n",
              "      <td>'male'@en</td>\n",
              "    </tr>\n",
              "  </tbody>\n",
              "</table>\n",
              "</div>"
            ],
            "text/plain": [
              "  sex_or_gender  count sex_or_gender;label\n",
              "0      Q6581072   1783         'female'@en\n",
              "1      Q6581097   8111           'male'@en"
            ]
          },
          "metadata": {},
          "execution_count": 42
        }
      ]
    },
    {
      "cell_type": "markdown",
      "metadata": {
        "id": "7tlW3RXUT4Z9"
      },
      "source": [
        "Below, we compute the distirbution of `sex or gender (P21)`  per type of award. We use the property `award received (P166)` to extract the awards that people received.\n",
        "\n",
        "We create a new property `Paward_count` to record the count, and put the `sex or gender (P21)` as a qualifier."
      ]
    },
    {
      "cell_type": "code",
      "metadata": {
        "id": "5kspsXFrT4Z-",
        "colab": {
          "base_uri": "https://localhost:8080/",
          "height": 458
        },
        "outputId": "c855e7c7-e5e8-459d-af59-2b1decd3ab37"
      },
      "source": [
        "%%time\n",
        "kgtk(\"\"\"\n",
        "    query -i all\n",
        "        --match '\n",
        "            (actor)-[:P31]->(:Q5),\n",
        "            (actor)-[:P21]->(sex_or_gender),\n",
        "            (actor)-[:P166]->(award)-[:P31]->(award_type)'\n",
        "        --return 'distinct award_type as node1, \"Paward_count\" as label, sex_or_gender as P21, count(distinct actor) as node2'\n",
        "        --order-by 'award_type'\n",
        "    / add-labels\n",
        "\"\"\")"
      ],
      "execution_count": null,
      "outputs": [
        {
          "output_type": "stream",
          "name": "stdout",
          "text": [
            "CPU times: user 37.2 ms, sys: 18.4 ms, total: 55.5 ms\n",
            "Wall time: 3.27 s\n"
          ]
        },
        {
          "output_type": "execute_result",
          "data": {
            "text/html": [
              "<div>\n",
              "<style scoped>\n",
              "    .dataframe tbody tr th:only-of-type {\n",
              "        vertical-align: middle;\n",
              "    }\n",
              "\n",
              "    .dataframe tbody tr th {\n",
              "        vertical-align: top;\n",
              "    }\n",
              "\n",
              "    .dataframe thead th {\n",
              "        text-align: right;\n",
              "    }\n",
              "</style>\n",
              "<table border=\"1\" class=\"dataframe\">\n",
              "  <thead>\n",
              "    <tr style=\"text-align: right;\">\n",
              "      <th></th>\n",
              "      <th>node1</th>\n",
              "      <th>label</th>\n",
              "      <th>P21</th>\n",
              "      <th>node2</th>\n",
              "      <th>node1;label</th>\n",
              "      <th>P21;label</th>\n",
              "    </tr>\n",
              "  </thead>\n",
              "  <tbody>\n",
              "    <tr>\n",
              "      <th>0</th>\n",
              "      <td>Q101007233</td>\n",
              "      <td>Paward_count</td>\n",
              "      <td>Q6581097</td>\n",
              "      <td>1</td>\n",
              "      <td>'film critics association'@en</td>\n",
              "      <td>'male'@en</td>\n",
              "    </tr>\n",
              "    <tr>\n",
              "      <th>1</th>\n",
              "      <td>Q1011547</td>\n",
              "      <td>Paward_count</td>\n",
              "      <td>Q6581072</td>\n",
              "      <td>38</td>\n",
              "      <td>'Golden Globe Award'@en</td>\n",
              "      <td>'female'@en</td>\n",
              "    </tr>\n",
              "    <tr>\n",
              "      <th>2</th>\n",
              "      <td>Q1011547</td>\n",
              "      <td>Paward_count</td>\n",
              "      <td>Q6581097</td>\n",
              "      <td>42</td>\n",
              "      <td>'Golden Globe Award'@en</td>\n",
              "      <td>'male'@en</td>\n",
              "    </tr>\n",
              "    <tr>\n",
              "      <th>3</th>\n",
              "      <td>Q101251494</td>\n",
              "      <td>Paward_count</td>\n",
              "      <td>Q6581097</td>\n",
              "      <td>24</td>\n",
              "      <td>'star'@en</td>\n",
              "      <td>'male'@en</td>\n",
              "    </tr>\n",
              "    <tr>\n",
              "      <th>4</th>\n",
              "      <td>Q1044427</td>\n",
              "      <td>Paward_count</td>\n",
              "      <td>Q6581072</td>\n",
              "      <td>8</td>\n",
              "      <td>'Primetime Emmy Award'@en</td>\n",
              "      <td>'female'@en</td>\n",
              "    </tr>\n",
              "    <tr>\n",
              "      <th>...</th>\n",
              "      <td>...</td>\n",
              "      <td>...</td>\n",
              "      <td>...</td>\n",
              "      <td>...</td>\n",
              "      <td>...</td>\n",
              "      <td>...</td>\n",
              "    </tr>\n",
              "    <tr>\n",
              "      <th>220</th>\n",
              "      <td>Q96474707</td>\n",
              "      <td>Paward_count</td>\n",
              "      <td>Q6581097</td>\n",
              "      <td>16</td>\n",
              "      <td>'honorary award'@en</td>\n",
              "      <td>'male'@en</td>\n",
              "    </tr>\n",
              "    <tr>\n",
              "      <th>221</th>\n",
              "      <td>Q96474709</td>\n",
              "      <td>Paward_count</td>\n",
              "      <td>Q6581072</td>\n",
              "      <td>2</td>\n",
              "      <td>'award for best visual effects'@en</td>\n",
              "      <td>'female'@en</td>\n",
              "    </tr>\n",
              "    <tr>\n",
              "      <th>222</th>\n",
              "      <td>Q96474709</td>\n",
              "      <td>Paward_count</td>\n",
              "      <td>Q6581097</td>\n",
              "      <td>121</td>\n",
              "      <td>'award for best visual effects'@en</td>\n",
              "      <td>'male'@en</td>\n",
              "    </tr>\n",
              "    <tr>\n",
              "      <th>223</th>\n",
              "      <td>Q973011</td>\n",
              "      <td>Paward_count</td>\n",
              "      <td>Q6581097</td>\n",
              "      <td>18</td>\n",
              "      <td>'campaign medal'@en</td>\n",
              "      <td>'male'@en</td>\n",
              "    </tr>\n",
              "    <tr>\n",
              "      <th>224</th>\n",
              "      <td>Q97551638</td>\n",
              "      <td>Paward_count</td>\n",
              "      <td>Q6581097</td>\n",
              "      <td>2</td>\n",
              "      <td>'merit order'@en</td>\n",
              "      <td>'male'@en</td>\n",
              "    </tr>\n",
              "  </tbody>\n",
              "</table>\n",
              "<p>225 rows × 6 columns</p>\n",
              "</div>"
            ],
            "text/plain": [
              "          node1         label  ...                         node1;label    P21;label\n",
              "0    Q101007233  Paward_count  ...       'film critics association'@en    'male'@en\n",
              "1      Q1011547  Paward_count  ...             'Golden Globe Award'@en  'female'@en\n",
              "2      Q1011547  Paward_count  ...             'Golden Globe Award'@en    'male'@en\n",
              "3    Q101251494  Paward_count  ...                           'star'@en    'male'@en\n",
              "4      Q1044427  Paward_count  ...           'Primetime Emmy Award'@en  'female'@en\n",
              "..          ...           ...  ...                                 ...          ...\n",
              "220   Q96474707  Paward_count  ...                 'honorary award'@en    'male'@en\n",
              "221   Q96474709  Paward_count  ...  'award for best visual effects'@en  'female'@en\n",
              "222   Q96474709  Paward_count  ...  'award for best visual effects'@en    'male'@en\n",
              "223     Q973011  Paward_count  ...                 'campaign medal'@en    'male'@en\n",
              "224   Q97551638  Paward_count  ...                    'merit order'@en    'male'@en\n",
              "\n",
              "[225 rows x 6 columns]"
            ]
          },
          "metadata": {},
          "execution_count": 43
        }
      ]
    },
    {
      "cell_type": "markdown",
      "metadata": {
        "id": "CSusfAD1T4Z-"
      },
      "source": [
        "Store the new `Paward_count` graph in a file and define the alias `award_count` for it"
      ]
    },
    {
      "cell_type": "code",
      "metadata": {
        "id": "IVvZvU4DT4Z-",
        "colab": {
          "base_uri": "https://localhost:8080/"
        },
        "outputId": "6b09ce07-ae83-4e5a-8c0d-46bac88aa1b1"
      },
      "source": [
        "%%time\n",
        "kgtk(\"\"\"\n",
        "    query -i all\n",
        "        --match '\n",
        "            (actor)-[:P31]->(:Q5),\n",
        "            (actor)-[:P21]->(sex_or_gender),\n",
        "            (actor)-[:P166]->(award)-[:P31]->(award_type)'\n",
        "        --return 'distinct award_type as node1, \"Paward_count\" as label, sex_or_gender as P21, count(distinct actor) as node2'\n",
        "        --order-by 'award_type'\n",
        "    / add-id --id-style wikidata\n",
        "    / normalize --add-id True\n",
        "    -o $OUT/derived.Paward_count.tsv\n",
        "\"\"\")\n",
        "\n",
        "kgtk(\"query -i $OUT/derived.Paward_count.tsv --as award_count --limit 10\")"
      ],
      "execution_count": null,
      "outputs": [
        {
          "output_type": "stream",
          "name": "stdout",
          "text": [
            "CPU times: user 44.7 ms, sys: 35.8 ms, total: 80.5 ms\n",
            "Wall time: 4.06 s\n"
          ]
        }
      ]
    },
    {
      "cell_type": "markdown",
      "metadata": {
        "id": "WpUtX735T4Z-"
      },
      "source": [
        "### Summary of this section\n",
        "In this section we:\n",
        "- Profiled awards to find the gender or sex of awardees, and found that males appear more frequently. We don't know if it is a skew in Wikidata or the real world.\n",
        "- Defined a new property to hold the data so that it can be shown in the browser."
      ]
    },
    {
      "cell_type": "code",
      "metadata": {
        "id": "ZpjFPog4T4Z-",
        "colab": {
          "base_uri": "https://localhost:8080/",
          "height": 424
        },
        "outputId": "9827732a-6a96-4427-befc-b0e3fb1fdaef"
      },
      "source": [
        "kgtk(\"\"\"\n",
        "    query -i all\n",
        "        --match '\n",
        "            (award)-[P31]->(award_type)-[:P279star]->(:Q4220917)'\n",
        "        --return 'distinct award_type as award_type'\n",
        "    / add-labels\n",
        "\"\"\")"
      ],
      "execution_count": null,
      "outputs": [
        {
          "output_type": "execute_result",
          "data": {
            "text/html": [
              "<div>\n",
              "<style scoped>\n",
              "    .dataframe tbody tr th:only-of-type {\n",
              "        vertical-align: middle;\n",
              "    }\n",
              "\n",
              "    .dataframe tbody tr th {\n",
              "        vertical-align: top;\n",
              "    }\n",
              "\n",
              "    .dataframe thead th {\n",
              "        text-align: right;\n",
              "    }\n",
              "</style>\n",
              "<table border=\"1\" class=\"dataframe\">\n",
              "  <thead>\n",
              "    <tr style=\"text-align: right;\">\n",
              "      <th></th>\n",
              "      <th>award_type</th>\n",
              "      <th>award_type;label</th>\n",
              "    </tr>\n",
              "  </thead>\n",
              "  <tbody>\n",
              "    <tr>\n",
              "      <th>0</th>\n",
              "      <td>Q1011547</td>\n",
              "      <td>'Golden Globe Award'@en</td>\n",
              "    </tr>\n",
              "    <tr>\n",
              "      <th>1</th>\n",
              "      <td>Q106301</td>\n",
              "      <td>'Academy Award for Best Supporting Actress'@en</td>\n",
              "    </tr>\n",
              "    <tr>\n",
              "      <th>2</th>\n",
              "      <td>Q110145</td>\n",
              "      <td>'MTV Movie Awards'@en</td>\n",
              "    </tr>\n",
              "    <tr>\n",
              "      <th>3</th>\n",
              "      <td>Q1111310</td>\n",
              "      <td>'Directors Guild of America Award'@en</td>\n",
              "    </tr>\n",
              "    <tr>\n",
              "      <th>4</th>\n",
              "      <td>Q1131772</td>\n",
              "      <td>'Saturn Award for Best Science Fiction Film'@en</td>\n",
              "    </tr>\n",
              "    <tr>\n",
              "      <th>...</th>\n",
              "      <td>...</td>\n",
              "      <td>...</td>\n",
              "    </tr>\n",
              "    <tr>\n",
              "      <th>90</th>\n",
              "      <td>Q96474700</td>\n",
              "      <td>'award for best screenplay'@en</td>\n",
              "    </tr>\n",
              "    <tr>\n",
              "      <th>91</th>\n",
              "      <td>Q96474701</td>\n",
              "      <td>'award for best adapted screenplay'@en</td>\n",
              "    </tr>\n",
              "    <tr>\n",
              "      <th>92</th>\n",
              "      <td>Q96474704</td>\n",
              "      <td>'award for best makeup and hairdressing'@en</td>\n",
              "    </tr>\n",
              "    <tr>\n",
              "      <th>93</th>\n",
              "      <td>Q96474707</td>\n",
              "      <td>'honorary award'@en</td>\n",
              "    </tr>\n",
              "    <tr>\n",
              "      <th>94</th>\n",
              "      <td>Q96474709</td>\n",
              "      <td>'award for best visual effects'@en</td>\n",
              "    </tr>\n",
              "  </tbody>\n",
              "</table>\n",
              "<p>95 rows × 2 columns</p>\n",
              "</div>"
            ],
            "text/plain": [
              "   award_type                                 award_type;label\n",
              "0    Q1011547                          'Golden Globe Award'@en\n",
              "1     Q106301   'Academy Award for Best Supporting Actress'@en\n",
              "2     Q110145                            'MTV Movie Awards'@en\n",
              "3    Q1111310            'Directors Guild of America Award'@en\n",
              "4    Q1131772  'Saturn Award for Best Science Fiction Film'@en\n",
              "..        ...                                              ...\n",
              "90  Q96474700                   'award for best screenplay'@en\n",
              "91  Q96474701           'award for best adapted screenplay'@en\n",
              "92  Q96474704      'award for best makeup and hairdressing'@en\n",
              "93  Q96474707                              'honorary award'@en\n",
              "94  Q96474709               'award for best visual effects'@en\n",
              "\n",
              "[95 rows x 2 columns]"
            ]
          },
          "metadata": {},
          "execution_count": 45
        }
      ]
    },
    {
      "cell_type": "code",
      "metadata": {
        "id": "JU4s1U8Phrgw"
      },
      "source": [
        ""
      ],
      "execution_count": null,
      "outputs": []
    }
  ]
}